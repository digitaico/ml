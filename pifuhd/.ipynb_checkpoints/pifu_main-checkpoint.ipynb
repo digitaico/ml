{
 "cells": [
  {
   "cell_type": "code",
   "execution_count": 2,
   "id": "87324d60-f0dd-4cc2-ac16-16a9de1dd3a6",
   "metadata": {},
   "outputs": [],
   "source": [
    "#git clone https://github.com/facebookresearch/pifuhd"
   ]
  },
  {
   "cell_type": "code",
   "execution_count": 3,
   "id": "a38f00ab-0b8c-40c1-8d70-85ace98fe05f",
   "metadata": {},
   "outputs": [
    {
     "name": "stdout",
     "output_type": "stream",
     "text": [
      "[Errno 2] No such file or directory: 'sample_images'\n",
      "/mnt/disco2/local-code/python/tailor/pifuhd/sample_images\n"
     ]
    },
    {
     "name": "stderr",
     "output_type": "stream",
     "text": [
      "/home/jea/.local/lib/python3.11/site-packages/IPython/core/magics/osm.py:393: UserWarning: This is now an optional IPython functionality, using bookmarks requires you to install the `pickleshare` library.\n",
      "  bkms = self.shell.db.get('bookmarks', {})\n"
     ]
    }
   ],
   "source": [
    "cd pifuhd/sample_images"
   ]
  },
  {
   "cell_type": "code",
   "execution_count": 4,
   "id": "40d2c691-7e29-42f8-a0fb-b034c25844a1",
   "metadata": {},
   "outputs": [],
   "source": [
    "import os\n",
    "\n",
    "#try:\n",
    " # image_path = 'pifuhd/sample_images/%s' % filename\n",
    "#except:\n",
    "image_path = 'pifuhd/sample_images/test.png' # example image\n",
    "image_dir = os.path.dirname(image_path)\n",
    "file_name = os.path.splitext(os.path.basename(image_path))[0]\n",
    "\n",
    "# output pathes\n",
    "obj_path = 'pifuhd/results/pifuhd_final/recon/result_%s_256.obj' % file_name\n",
    "out_img_path = 'pifuhd/results/pifuhd_final/recon/result_%s_256.png' % file_name\n",
    "video_path = 'pifuhd/results/pifuhd_final/recon/result_%s_256.mp4' % file_name\n",
    "video_display_path = 'pifuhd/results/pifuhd_final/result_%s_256_display.mp4' % file_name\n"
   ]
  },
  {
   "cell_type": "code",
   "execution_count": null,
   "id": "ee5acc4d-9351-472e-a65c-d2fb4c9bf24c",
   "metadata": {},
   "outputs": [],
   "source": [
    "cd ../"
   ]
  },
  {
   "cell_type": "code",
   "execution_count": null,
   "id": "a366dd9b-8a37-4092-a8e7-cbef42d2b89d",
   "metadata": {},
   "outputs": [],
   "source": [
    "git clone https://github.com/Daniil-Osokin/lightweight-human-pose-estimation.pytorch.git"
   ]
  },
  {
   "cell_type": "code",
   "execution_count": null,
   "id": "cf0dfa93-5773-4f53-a7c6-43ec50d99bbc",
   "metadata": {},
   "outputs": [],
   "source": []
  }
 ],
 "metadata": {
  "kernelspec": {
   "display_name": "Python 3 (ipykernel)",
   "language": "python",
   "name": "python3"
  },
  "language_info": {
   "codemirror_mode": {
    "name": "ipython",
    "version": 3
   },
   "file_extension": ".py",
   "mimetype": "text/x-python",
   "name": "python",
   "nbconvert_exporter": "python",
   "pygments_lexer": "ipython3",
   "version": "3.11.2"
  }
 },
 "nbformat": 4,
 "nbformat_minor": 5
}
