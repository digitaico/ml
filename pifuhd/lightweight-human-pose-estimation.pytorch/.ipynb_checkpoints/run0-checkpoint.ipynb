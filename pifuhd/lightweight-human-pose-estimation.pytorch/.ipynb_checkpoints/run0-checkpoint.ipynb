{
 "cells": [
  {
   "cell_type": "code",
   "execution_count": null,
   "id": "4534ba59-dd54-4f8a-b466-8c512e47358f",
   "metadata": {},
   "outputs": [],
   "source": [
    "import os\n",
    "\n",
    "\"\"\"\n",
    "try:\n",
    "  image_path = '../pifuhd/sample_images/%s' % filename\n",
    "except:\n",
    "\"\"\"\n",
    "image_path = '../pifuhd/sample_images/test.png' # example image\n",
    "image_dir = os.path.dirname(image_path)\n",
    "file_name = os.path.splitext(os.path.basename(image_path))[0]\n",
    "\n",
    "# output pathes\n",
    "obj_path = '../pifuhd/results/pifuhd_final/recon/result_%s_256.obj' % file_name\n",
    "out_img_path = '../pifuhd/results/pifuhd_final/recon/result_%s_256.png' % file_name\n",
    "video_path = '../pifuhd/results/pifuhd_final/recon/result_%s_256.mp4' % file_name\n",
    "video_display_path = '../pifuhd/results/pifuhd_final/result_%s_256_display.mp4' % file_name"
   ]
  }
 ],
 "metadata": {
  "kernelspec": {
   "display_name": "Python 3 (ipykernel)",
   "language": "python",
   "name": "python3"
  },
  "language_info": {
   "codemirror_mode": {
    "name": "ipython",
    "version": 3
   },
   "file_extension": ".py",
   "mimetype": "text/x-python",
   "name": "python",
   "nbconvert_exporter": "python",
   "pygments_lexer": "ipython3",
   "version": "3.11.2"
  }
 },
 "nbformat": 4,
 "nbformat_minor": 5
}
