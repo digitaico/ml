{
 "cells": [
  {
   "cell_type": "code",
   "execution_count": 22,
   "id": "8a0747ce-f6c1-47c1-b51c-77815e1fc184",
   "metadata": {
    "scrolled": true
   },
   "outputs": [
    {
     "name": "stdout",
     "output_type": "stream",
     "text": [
      "Defaulting to user installation because normal site-packages is not writeable\n",
      "Requirement already satisfied: fvcore in /home/jea/.local/lib/python3.11/site-packages (0.1.5.post20221221)\n",
      "Requirement already satisfied: iopath in /home/jea/.local/lib/python3.11/site-packages (0.1.10)\n",
      "Requirement already satisfied: Pillow in /usr/lib/python3/dist-packages (from fvcore) (9.4.0)\n",
      "Requirement already satisfied: numpy in /home/jea/.local/lib/python3.11/site-packages (from fvcore) (1.26.4)\n",
      "Requirement already satisfied: pyyaml>=5.1 in /usr/lib/python3/dist-packages (from fvcore) (6.0)\n",
      "Requirement already satisfied: tabulate in /home/jea/.local/lib/python3.11/site-packages (from fvcore) (0.9.0)\n",
      "Requirement already satisfied: termcolor>=1.1 in /home/jea/.local/lib/python3.11/site-packages (from fvcore) (2.4.0)\n",
      "Requirement already satisfied: tqdm in /usr/lib/python3/dist-packages (from fvcore) (4.64.1)\n",
      "Requirement already satisfied: yacs>=0.1.6 in /home/jea/.local/lib/python3.11/site-packages (from fvcore) (0.1.8)\n",
      "Requirement already satisfied: portalocker in /home/jea/.local/lib/python3.11/site-packages (from iopath) (2.10.0)\n",
      "Requirement already satisfied: typing-extensions in /home/jea/.local/lib/python3.11/site-packages (from iopath) (4.10.0)\n",
      "Defaulting to user installation because normal site-packages is not writeable\n",
      "Looking in links: https://dl.fbaipublicfiles.com/pytorch3d/packaging/wheels/py311_cu_pyt231/download.html\n",
      "Requirement already satisfied: pytorch3d in /home/jea/.local/lib/python3.11/site-packages (0.7.7)\n",
      "Requirement already satisfied: fvcore in /home/jea/.local/lib/python3.11/site-packages (from pytorch3d) (0.1.5.post20221221)\n",
      "Requirement already satisfied: iopath in /home/jea/.local/lib/python3.11/site-packages (from pytorch3d) (0.1.10)\n",
      "Requirement already satisfied: Pillow in /usr/lib/python3/dist-packages (from fvcore->pytorch3d) (9.4.0)\n",
      "Requirement already satisfied: numpy in /home/jea/.local/lib/python3.11/site-packages (from fvcore->pytorch3d) (1.26.4)\n",
      "Requirement already satisfied: pyyaml>=5.1 in /usr/lib/python3/dist-packages (from fvcore->pytorch3d) (6.0)\n",
      "Requirement already satisfied: tabulate in /home/jea/.local/lib/python3.11/site-packages (from fvcore->pytorch3d) (0.9.0)\n",
      "Requirement already satisfied: termcolor>=1.1 in /home/jea/.local/lib/python3.11/site-packages (from fvcore->pytorch3d) (2.4.0)\n",
      "Requirement already satisfied: tqdm in /usr/lib/python3/dist-packages (from fvcore->pytorch3d) (4.64.1)\n",
      "Requirement already satisfied: yacs>=0.1.6 in /home/jea/.local/lib/python3.11/site-packages (from fvcore->pytorch3d) (0.1.8)\n",
      "Requirement already satisfied: portalocker in /home/jea/.local/lib/python3.11/site-packages (from iopath->pytorch3d) (2.10.0)\n",
      "Requirement already satisfied: typing-extensions in /home/jea/.local/lib/python3.11/site-packages (from iopath->pytorch3d) (4.10.0)\n"
     ]
    }
   ],
   "source": [
    "import sys\n",
    "import os\n",
    "os.environ['CUDA_VISIBLE_DEVICES'] = '-1'\n",
    "import torch\n",
    "\n",
    "# NO INSTALLAR WHEELS,  JUST FOR CUDA\n",
    "pyt_version_str=torch.__version__.split(\"+\")[0].replace(\".\", \"\")\n",
    "version_str=\"\".join([\n",
    "    f\"py3{sys.version_info.minor}_cu\",\n",
    "    #torch.version.cuda.replace(\".\",\"\"),\n",
    "    f\"_pyt{pyt_version_str}\"\n",
    "])\n",
    "!pip install fvcore iopath\n",
    "!pip install --no-index --no-cache-dir pytorch3d -f https://dl.fbaipublicfiles.com/pytorch3d/packaging/wheels/{version_str}/download.html"
   ]
  },
  {
   "cell_type": "code",
   "execution_count": 25,
   "id": "bef53161-76f8-474d-80c3-e6a3b169129d",
   "metadata": {},
   "outputs": [],
   "source": [
    "import os\n",
    "\n",
    "\"\"\"\n",
    "try:\n",
    "  image_path = '/sample_images/%s' % filename\n",
    "except:\n",
    "\"\"\"\n",
    "image_path = '../pifuhd/sample_images/p1.jpg' # example image\n",
    "image_dir = os.path.dirname(image_path)\n",
    "file_name = os.path.splitext(os.path.basename(image_path))[0]\n",
    "\n",
    "# output pathes\n",
    "obj_path = '../pifuhd/results/pifuhd_final/recon/result_%s_256.obj' % file_name\n",
    "out_img_path = '../pifuhd/results/pifuhd_final/recon/result_%s_256.png' % file_name\n",
    "video_path = '../pifuhd/results/pifuhd_final/recon/result_%s_256.mp4' % file_name\n",
    "video_display_path = '../pifuhd/results/pifuhd_final/result_%s_256_display.mp4' % file_name"
   ]
  },
  {
   "cell_type": "code",
   "execution_count": 2,
   "id": "48f626d9-b6cb-4f0a-9383-d7151729a194",
   "metadata": {
    "scrolled": true
   },
   "outputs": [
    {
     "ename": "SyntaxError",
     "evalue": "incomplete input (692154777.py, line 15)",
     "output_type": "error",
     "traceback": [
      "\u001b[0;36m  Cell \u001b[0;32mIn[2], line 15\u001b[0;36m\u001b[0m\n\u001b[0;31m    \"\"\"\u001b[0m\n\u001b[0m    ^\u001b[0m\n\u001b[0;31mSyntaxError\u001b[0m\u001b[0;31m:\u001b[0m incomplete input\n"
     ]
    }
   ],
   "source": [
    "import sys\n",
    "import os\n",
    "os.environ['CUDA_VISIBLE_DEVICES'] = '-1'\n",
    "import torch\n",
    "sys.path.append('/lib')\n",
    "\n",
    "from lib.colab_util import generate_video_from_obj, set_renderer, video\n",
    "\n",
    "renderer = set_renderer()\n",
    "generate_video_from_obj(obj_path, out_img_path, video_path, renderer)\n",
    "\n",
    "# we cannot play a mp4 video generated by cv2\n",
    "!ffmpeg -i $video_path -vcodec libx264 $video_display_path -y -loglevel quiet\n",
    "video(video_display_path)\n"
   ]
  },
  {
   "cell_type": "code",
   "execution_count": null,
   "id": "5103cf27-1145-4292-a852-e2278bbc6cd3",
   "metadata": {},
   "outputs": [],
   "source": []
  },
  {
   "cell_type": "code",
   "execution_count": null,
   "id": "3a7ee8e9-01b3-4be2-9251-cb081c617874",
   "metadata": {},
   "outputs": [],
   "source": []
  },
  {
   "cell_type": "code",
   "execution_count": null,
   "id": "b9efbb5b-97a9-498f-b2d4-41863759bf28",
   "metadata": {},
   "outputs": [],
   "source": []
  }
 ],
 "metadata": {
  "kernelspec": {
   "display_name": "Python 3 (ipykernel)",
   "language": "python",
   "name": "python3"
  },
  "language_info": {
   "codemirror_mode": {
    "name": "ipython",
    "version": 3
   },
   "file_extension": ".py",
   "mimetype": "text/x-python",
   "name": "python",
   "nbconvert_exporter": "python",
   "pygments_lexer": "ipython3",
   "version": "3.11.2"
  }
 },
 "nbformat": 4,
 "nbformat_minor": 5
}
