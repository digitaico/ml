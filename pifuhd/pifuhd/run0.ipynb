{
 "cells": [
  {
   "cell_type": "code",
   "execution_count": 22,
   "id": "8a0747ce-f6c1-47c1-b51c-77815e1fc184",
   "metadata": {
    "scrolled": true
   },
   "outputs": [
    {
     "name": "stdout",
     "output_type": "stream",
     "text": [
      "Defaulting to user installation because normal site-packages is not writeable\n",
      "Requirement already satisfied: fvcore in /home/jea/.local/lib/python3.11/site-packages (0.1.5.post20221221)\n",
      "Requirement already satisfied: iopath in /home/jea/.local/lib/python3.11/site-packages (0.1.10)\n",
      "Requirement already satisfied: Pillow in /usr/lib/python3/dist-packages (from fvcore) (9.4.0)\n",
      "Requirement already satisfied: numpy in /home/jea/.local/lib/python3.11/site-packages (from fvcore) (1.26.4)\n",
      "Requirement already satisfied: pyyaml>=5.1 in /usr/lib/python3/dist-packages (from fvcore) (6.0)\n",
      "Requirement already satisfied: tabulate in /home/jea/.local/lib/python3.11/site-packages (from fvcore) (0.9.0)\n",
      "Requirement already satisfied: termcolor>=1.1 in /home/jea/.local/lib/python3.11/site-packages (from fvcore) (2.4.0)\n",
      "Requirement already satisfied: tqdm in /usr/lib/python3/dist-packages (from fvcore) (4.64.1)\n",
      "Requirement already satisfied: yacs>=0.1.6 in /home/jea/.local/lib/python3.11/site-packages (from fvcore) (0.1.8)\n",
      "Requirement already satisfied: portalocker in /home/jea/.local/lib/python3.11/site-packages (from iopath) (2.10.0)\n",
      "Requirement already satisfied: typing-extensions in /home/jea/.local/lib/python3.11/site-packages (from iopath) (4.10.0)\n",
      "Defaulting to user installation because normal site-packages is not writeable\n",
      "Looking in links: https://dl.fbaipublicfiles.com/pytorch3d/packaging/wheels/py311_cu_pyt231/download.html\n",
      "Requirement already satisfied: pytorch3d in /home/jea/.local/lib/python3.11/site-packages (0.7.7)\n",
      "Requirement already satisfied: fvcore in /home/jea/.local/lib/python3.11/site-packages (from pytorch3d) (0.1.5.post20221221)\n",
      "Requirement already satisfied: iopath in /home/jea/.local/lib/python3.11/site-packages (from pytorch3d) (0.1.10)\n",
      "Requirement already satisfied: Pillow in /usr/lib/python3/dist-packages (from fvcore->pytorch3d) (9.4.0)\n",
      "Requirement already satisfied: numpy in /home/jea/.local/lib/python3.11/site-packages (from fvcore->pytorch3d) (1.26.4)\n",
      "Requirement already satisfied: pyyaml>=5.1 in /usr/lib/python3/dist-packages (from fvcore->pytorch3d) (6.0)\n",
      "Requirement already satisfied: tabulate in /home/jea/.local/lib/python3.11/site-packages (from fvcore->pytorch3d) (0.9.0)\n",
      "Requirement already satisfied: termcolor>=1.1 in /home/jea/.local/lib/python3.11/site-packages (from fvcore->pytorch3d) (2.4.0)\n",
      "Requirement already satisfied: tqdm in /usr/lib/python3/dist-packages (from fvcore->pytorch3d) (4.64.1)\n",
      "Requirement already satisfied: yacs>=0.1.6 in /home/jea/.local/lib/python3.11/site-packages (from fvcore->pytorch3d) (0.1.8)\n",
      "Requirement already satisfied: portalocker in /home/jea/.local/lib/python3.11/site-packages (from iopath->pytorch3d) (2.10.0)\n",
      "Requirement already satisfied: typing-extensions in /home/jea/.local/lib/python3.11/site-packages (from iopath->pytorch3d) (4.10.0)\n"
     ]
    }
   ],
   "source": [
    "import sys\n",
    "import os\n",
    "os.environ['CUDA_VISIBLE_DEVICES'] = '-1'\n",
    "import torch\n",
    "\n",
    "# NO INSTALLAR WHEELS,  JUST FOR CUDA\n",
    "pyt_version_str=torch.__version__.split(\"+\")[0].replace(\".\", \"\")\n",
    "version_str=\"\".join([\n",
    "    f\"py3{sys.version_info.minor}_cu\",\n",
    "    #torch.version.cuda.replace(\".\",\"\"),\n",
    "    f\"_pyt{pyt_version_str}\"\n",
    "])\n",
    "!pip install fvcore iopath\n",
    "!pip install --no-index --no-cache-dir pytorch3d -f https://dl.fbaipublicfiles.com/pytorch3d/packaging/wheels/{version_str}/download.html"
   ]
  },
  {
   "cell_type": "code",
   "execution_count": 25,
   "id": "bef53161-76f8-474d-80c3-e6a3b169129d",
   "metadata": {},
   "outputs": [],
   "source": [
    "import os\n",
    "\n",
    "\"\"\"\n",
    "try:\n",
    "  image_path = '/sample_images/%s' % filename\n",
    "except:\n",
    "\"\"\"\n",
    "image_path = '../pifuhd/sample_images/p1.jpg' # example image\n",
    "image_dir = os.path.dirname(image_path)\n",
    "file_name = os.path.splitext(os.path.basename(image_path))[0]\n",
    "\n",
    "# output pathes\n",
    "obj_path = '../pifuhd/results/pifuhd_final/recon/result_%s_256.obj' % file_name\n",
    "out_img_path = '../pifuhd/results/pifuhd_final/recon/result_%s_256.png' % file_name\n",
    "video_path = '../pifuhd/results/pifuhd_final/recon/result_%s_256.mp4' % file_name\n",
    "video_display_path = '../pifuhd/results/pifuhd_final/result_%s_256_display.mp4' % file_name"
   ]
  },
  {
   "cell_type": "code",
   "execution_count": 1,
   "id": "48f626d9-b6cb-4f0a-9383-d7151729a194",
   "metadata": {
    "scrolled": true
   },
   "outputs": [
    {
     "ename": "AttributeError",
     "evalue": "module 'torch._C' has no attribute '_cuda_setDevice'",
     "output_type": "error",
     "traceback": [
      "\u001b[0;31m---------------------------------------------------------------------------\u001b[0m",
      "\u001b[0;31mAttributeError\u001b[0m                            Traceback (most recent call last)",
      "Cell \u001b[0;32mIn[1], line 9\u001b[0m\n\u001b[1;32m      5\u001b[0m sys\u001b[38;5;241m.\u001b[39mpath\u001b[38;5;241m.\u001b[39mappend(\u001b[38;5;124m'\u001b[39m\u001b[38;5;124m/lib\u001b[39m\u001b[38;5;124m'\u001b[39m)\n\u001b[1;32m      7\u001b[0m \u001b[38;5;28;01mfrom\u001b[39;00m \u001b[38;5;21;01mlib\u001b[39;00m\u001b[38;5;21;01m.\u001b[39;00m\u001b[38;5;21;01mcolab_util\u001b[39;00m \u001b[38;5;28;01mimport\u001b[39;00m generate_video_from_obj, set_renderer, video\n\u001b[0;32m----> 9\u001b[0m renderer \u001b[38;5;241m=\u001b[39m \u001b[43mset_renderer\u001b[49m\u001b[43m(\u001b[49m\u001b[43m)\u001b[49m\n\u001b[1;32m     10\u001b[0m generate_video_from_obj(obj_path, out_img_path, video_path, renderer)\n\u001b[1;32m     12\u001b[0m \u001b[38;5;66;03m# we cannot play a mp4 video generated by cv2\u001b[39;00m\n",
      "File \u001b[0;32m/mnt/disco2/local-code/python/tailor/pifuhd/pifuhd/lib/colab_util.py:61\u001b[0m, in \u001b[0;36mset_renderer\u001b[0;34m()\u001b[0m\n\u001b[1;32m     58\u001b[0m \u001b[38;5;28;01mdef\u001b[39;00m \u001b[38;5;21mset_renderer\u001b[39m():\n\u001b[1;32m     59\u001b[0m     \u001b[38;5;66;03m# Setup\u001b[39;00m\n\u001b[1;32m     60\u001b[0m     device \u001b[38;5;241m=\u001b[39m torch\u001b[38;5;241m.\u001b[39mdevice(\u001b[38;5;124m\"\u001b[39m\u001b[38;5;124mcuda:0\u001b[39m\u001b[38;5;124m\"\u001b[39m)\n\u001b[0;32m---> 61\u001b[0m     \u001b[43mtorch\u001b[49m\u001b[38;5;241;43m.\u001b[39;49m\u001b[43mcuda\u001b[49m\u001b[38;5;241;43m.\u001b[39;49m\u001b[43mset_device\u001b[49m\u001b[43m(\u001b[49m\u001b[43mdevice\u001b[49m\u001b[43m)\u001b[49m\n\u001b[1;32m     63\u001b[0m     \u001b[38;5;66;03m# Initialize an OpenGL perspective camera.\u001b[39;00m\n\u001b[1;32m     64\u001b[0m     R, T \u001b[38;5;241m=\u001b[39m look_at_view_transform(\u001b[38;5;241m2.0\u001b[39m, \u001b[38;5;241m0\u001b[39m, \u001b[38;5;241m180\u001b[39m) \n",
      "File \u001b[0;32m~/.local/lib/python3.11/site-packages/torch/cuda/__init__.py:399\u001b[0m, in \u001b[0;36mset_device\u001b[0;34m(device)\u001b[0m\n\u001b[1;32m    397\u001b[0m device \u001b[38;5;241m=\u001b[39m _get_device_index(device)\n\u001b[1;32m    398\u001b[0m \u001b[38;5;28;01mif\u001b[39;00m device \u001b[38;5;241m>\u001b[39m\u001b[38;5;241m=\u001b[39m \u001b[38;5;241m0\u001b[39m:\n\u001b[0;32m--> 399\u001b[0m     \u001b[43mtorch\u001b[49m\u001b[38;5;241;43m.\u001b[39;49m\u001b[43m_C\u001b[49m\u001b[38;5;241;43m.\u001b[39;49m\u001b[43m_cuda_setDevice\u001b[49m(device)\n",
      "\u001b[0;31mAttributeError\u001b[0m: module 'torch._C' has no attribute '_cuda_setDevice'"
     ]
    }
   ],
   "source": [
    "import sys\n",
    "import os\n",
    "os.environ['CUDA_VISIBLE_DEVICES'] = '-1'\n",
    "import torch\n",
    "sys.path.append('/lib')\n",
    "\n",
    "from lib.colab_util import generate_video_from_obj, set_renderer, video\n",
    "\n",
    "renderer = set_renderer()\n",
    "generate_video_from_obj(obj_path, out_img_path, video_path, renderer)\n",
    "\n",
    "# we cannot play a mp4 video generated by cv2\n",
    "!ffmpeg -i $video_path -vcodec libx264 $video_display_path -y -loglevel quiet\n",
    "video(video_display_path)\n"
   ]
  },
  {
   "cell_type": "code",
   "execution_count": null,
   "id": "5103cf27-1145-4292-a852-e2278bbc6cd3",
   "metadata": {},
   "outputs": [],
   "source": []
  },
  {
   "cell_type": "code",
   "execution_count": null,
   "id": "3a7ee8e9-01b3-4be2-9251-cb081c617874",
   "metadata": {},
   "outputs": [],
   "source": []
  },
  {
   "cell_type": "code",
   "execution_count": null,
   "id": "b9efbb5b-97a9-498f-b2d4-41863759bf28",
   "metadata": {},
   "outputs": [],
   "source": []
  }
 ],
 "metadata": {
  "kernelspec": {
   "display_name": "Python 3 (ipykernel)",
   "language": "python",
   "name": "python3"
  },
  "language_info": {
   "codemirror_mode": {
    "name": "ipython",
    "version": 3
   },
   "file_extension": ".py",
   "mimetype": "text/x-python",
   "name": "python",
   "nbconvert_exporter": "python",
   "pygments_lexer": "ipython3",
   "version": "3.11.2"
  }
 },
 "nbformat": 4,
 "nbformat_minor": 5
}
