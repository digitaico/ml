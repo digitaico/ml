{
 "cells": [
  {
   "cell_type": "markdown",
   "id": "7d6ae50e-9080-4e79-ae26-597f594c9d5f",
   "metadata": {},
   "source": [
    "# TOLOv8 POSE ESTIMATION\n",
    "\n",
    "### [Story](https://www.pivotaltracker.com/story/show/188238007)"
   ]
  },
  {
   "cell_type": "code",
   "execution_count": 1,
   "id": "50c9b4a9-b9aa-4295-a27b-1ee2dc9bd72a",
   "metadata": {},
   "outputs": [],
   "source": [
    "import torch\n",
    "import cv2\n",
    "from ultralytics import YOLO, solutions"
   ]
  },
  {
   "cell_type": "code",
   "execution_count": 2,
   "id": "f8cf23ec-2f7a-441e-a82d-6293f6afa8df",
   "metadata": {},
   "outputs": [],
   "source": [
    "model = YOLO(\"yolov8n-pose.pt\")\n",
    "cap = cv2.VideoCapture('video2.mp4')\n",
    "assert cap.isOpened(), \"Error reading video file\"\n",
    "w, h, fps = (int(cap.get(x)) for x in (cv2.CAP_PROP_FRAME_WIDTH, cv2.CAP_PROP_FRAME_HEIGHT, cv2.CAP_PROP_FPS))"
   ]
  },
  {
   "cell_type": "code",
   "execution_count": 3,
   "id": "22356279-f636-45b4-afe4-68955a871a8c",
   "metadata": {},
   "outputs": [],
   "source": [
    "video_writer = cv2.VideoWriter(\"result_pe.avi\", cv2.VideoWriter_fourcc(*\"mp4v\"), fps, (w, h))"
   ]
  },
  {
   "cell_type": "code",
   "execution_count": 4,
   "id": "846d58d1-e682-40a6-84a0-3506fbb9c7b2",
   "metadata": {},
   "outputs": [],
   "source": [
    "gym_object = solutions.AIGym(\n",
    "    line_thickness=2,\n",
    "    view_img=True,\n",
    "    pose_type=\"pushup\",\n",
    "    kpts_to_check=[6,8,10],\n",
    ")"
   ]
  },
  {
   "cell_type": "code",
   "execution_count": 5,
   "id": "ea6df6aa-9734-466b-9981-141651ca5855",
   "metadata": {},
   "outputs": [
    {
     "name": "stdout",
     "output_type": "stream",
     "text": [
      "Video frame is empty or video processing has been succesfully completed\n"
     ]
    }
   ],
   "source": [
    "while cap.isOpened():\n",
    "    success, im0 = cap.read()\n",
    "    if not success:\n",
    "        print(\"Video frame is empty or video processing has been succesfully completed\")\n",
    "        break\n",
    "    results = model.track(im0, verbose=False)\n",
    "    im0 = gym_object.start_counting(im0, results)\n",
    "cv2.destroyAllWindows()"
   ]
  },
  {
   "cell_type": "code",
   "execution_count": 6,
   "id": "92a0307b-0741-4a5d-b190-888c76235694",
   "metadata": {},
   "outputs": [],
   "source": [
    "video_writer.release()"
   ]
  }
 ],
 "metadata": {
  "kernelspec": {
   "display_name": "Python 3 (ipykernel)",
   "language": "python",
   "name": "python3"
  },
  "language_info": {
   "codemirror_mode": {
    "name": "ipython",
    "version": 3
   },
   "file_extension": ".py",
   "mimetype": "text/x-python",
   "name": "python",
   "nbconvert_exporter": "python",
   "pygments_lexer": "ipython3",
   "version": "3.11.2"
  }
 },
 "nbformat": 4,
 "nbformat_minor": 5
}
