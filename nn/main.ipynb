{
 "cells": [
  {
   "cell_type": "markdown",
   "id": "78e845d9-b476-45f4-bff0-2a2913fc1873",
   "metadata": {},
   "source": [
    "# NN FROM SCRATCH\n",
    "\n",
    "Create an Artificial Neural Network from scartch.  Why? To learn!!!\n",
    "\n",
    "### [Source](https://developer.ibm.com/articles/neural-networks-from-scratch/)\n",
    "### [Story](https://www.pivotaltracker.com/story/show/188136990)"
   ]
  },
  {
   "cell_type": "code",
   "execution_count": 1,
   "id": "f002fe20-a4c2-4ca3-8936-c2277dbb18b4",
   "metadata": {},
   "outputs": [],
   "source": [
    "import torch\n",
    "from torchvision import datasets, transforms"
   ]
  },
  {
   "cell_type": "code",
   "execution_count": 2,
   "id": "fa229ec5-a0c8-46f0-86fa-d6ce2447d24e",
   "metadata": {},
   "outputs": [],
   "source": [
    "transform = transforms.Compose([\n",
    "    transforms.ToTensor(),\n",
    "    transforms.Normalize((0.1307,), (0.3081,))\n",
    "])"
   ]
  },
  {
   "cell_type": "code",
   "execution_count": 3,
   "id": "46194b8b-f180-4e54-89a8-49e8b6bb2807",
   "metadata": {},
   "outputs": [],
   "source": [
    "train_loader = torch.utils.data.DataLoader(\n",
    "    datasets.MNIST('data', train=True, download=True, transform=transform)\n",
    ")"
   ]
  },
  {
   "cell_type": "code",
   "execution_count": 4,
   "id": "7f85bb91-ab5a-4201-b938-61d068fb552c",
   "metadata": {},
   "outputs": [],
   "source": [
    "test_loader = torch.utils.data.DataLoader(\n",
    "    datasets.MNIST('data', train=False, transform=transform)\n",
    ")"
   ]
  },
  {
   "cell_type": "code",
   "execution_count": 5,
   "id": "bd1dc23f-c5b6-4ba9-9bab-c4d2ed311481",
   "metadata": {},
   "outputs": [],
   "source": [
    "import time\n",
    "import torch.nn as nn\n",
    "import torch.optim as optim\n",
    "import torch.nn .functional as F"
   ]
  },
  {
   "cell_type": "code",
   "execution_count": 6,
   "id": "442b48ce-cdc0-439e-aa0d-7d0fe34cb7b0",
   "metadata": {},
   "outputs": [],
   "source": [
    "class Net(nn.Module):\n",
    "    def __init__(self, epochs=10):\n",
    "        super(Net, self).__init__()\n",
    "        self.linear1 = nn.Linear(784,128)\n",
    "        self.linear2 = nn.Linear(128,64)\n",
    "        self.linear3 = nn.Linear(64, 10)\n",
    "        self.epochs = epochs\n",
    "        \n",
    "    def forward_pass(self, x):\n",
    "        x = self.linear1(x)\n",
    "        x = torch.sigmoid(x)\n",
    "        x = self.linear2(x)\n",
    "        x = torch.sigmoid(x)\n",
    "        x = self.linear3(x)\n",
    "        x = torch.softmax(x, dim=0)\n",
    "        return x\n",
    "\n",
    "    def one_hot_encode(self,y):\n",
    "        encoded = torch.zeros([10], dtype=torch.float64)\n",
    "        encoded[y[0]] = 1.\n",
    "        return encoded\n",
    "\n",
    "    def train(self, train_loader, optimizer, criterion):\n",
    "        start_time = time.time()\n",
    "        loss = None\n",
    "\n",
    "        for iteration in range(self.epochs):\n",
    "            for x,y in train_loader:\n",
    "                y = self.one_hot_encode(y)\n",
    "                optimizer.zero_grad()\n",
    "                output = self.forward_pass(torch.flatten(x))\n",
    "                loss = criterion(output, y)\n",
    "                loss.backward()\n",
    "                optimizer.step()\n",
    "\n",
    "            print('Epoch: {0}, Time Spent: {1:.2f}s, Loss: {2}'.format(\n",
    "                iteration+1, time.time() - start_time, loss\n",
    "            ))"
   ]
  },
  {
   "cell_type": "code",
   "execution_count": null,
   "id": "095d13db-18b5-4d6f-8798-85cfeab1048e",
   "metadata": {},
   "outputs": [
    {
     "name": "stdout",
     "output_type": "stream",
     "text": [
      "Epoch: 1, Time Spent: 81.16s, Loss: 0.7327230833470821\n"
     ]
    }
   ],
   "source": [
    "model = Net()\n",
    "\n",
    "optimizer = optim.SGD(model.parameters(), lr=0.001)\n",
    "criterion = nn.BCEWithLogitsLoss()\n",
    "\n",
    "model.train(train_loader, optimizer, criterion)"
   ]
  },
  {
   "cell_type": "code",
   "execution_count": null,
   "id": "37b543b6-3b03-4344-8ef8-33884b405a32",
   "metadata": {},
   "outputs": [],
   "source": []
  }
 ],
 "metadata": {
  "kernelspec": {
   "display_name": "Python 3 (ipykernel)",
   "language": "python",
   "name": "python3"
  },
  "language_info": {
   "codemirror_mode": {
    "name": "ipython",
    "version": 3
   },
   "file_extension": ".py",
   "mimetype": "text/x-python",
   "name": "python",
   "nbconvert_exporter": "python",
   "pygments_lexer": "ipython3",
   "version": "3.11.2"
  }
 },
 "nbformat": 4,
 "nbformat_minor": 5
}
