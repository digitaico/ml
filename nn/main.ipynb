{
 "cells": [
  {
   "cell_type": "markdown",
   "id": "78e845d9-b476-45f4-bff0-2a2913fc1873",
   "metadata": {},
   "source": [
    "# NN FROM SCRATCH\n",
    "\n",
    "Create an Artificial Neural Network from scartch.  Why? To learn!!!\n",
    "\n",
    "### [Source](https://developer.ibm.com/articles/neural-networks-from-scratch/)\n",
    "### [Story](https://www.pivotaltracker.com/story/show/188136990)"
   ]
  },
  {
   "cell_type": "code",
   "execution_count": 1,
   "id": "f002fe20-a4c2-4ca3-8936-c2277dbb18b4",
   "metadata": {},
   "outputs": [],
   "source": [
    "import numpy"
   ]
  },
  {
   "cell_type": "code",
   "execution_count": null,
   "id": "298568c0-e814-43bb-a438-de5ae2a0c829",
   "metadata": {},
   "outputs": [],
   "source": []
  }
 ],
 "metadata": {
  "kernelspec": {
   "display_name": "Python 3 (ipykernel)",
   "language": "python",
   "name": "python3"
  },
  "language_info": {
   "codemirror_mode": {
    "name": "ipython",
    "version": 3
   },
   "file_extension": ".py",
   "mimetype": "text/x-python",
   "name": "python",
   "nbconvert_exporter": "python",
   "pygments_lexer": "ipython3",
   "version": "3.11.2"
  }
 },
 "nbformat": 4,
 "nbformat_minor": 5
}
