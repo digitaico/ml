{
 "cells": [
  {
   "cell_type": "code",
   "execution_count": 1,
   "id": "fd98ff15-ef80-4d24-af01-f758e56cf13b",
   "metadata": {
    "editable": true,
    "slideshow": {
     "slide_type": ""
    },
    "tags": []
   },
   "outputs": [
    {
     "name": "stderr",
     "output_type": "stream",
     "text": [
      "2024-07-05 17:54:17.569373: I external/local_tsl/tsl/cuda/cudart_stub.cc:32] Could not find cuda drivers on your machine, GPU will not be used.\n",
      "2024-07-05 17:54:17.572202: I external/local_tsl/tsl/cuda/cudart_stub.cc:32] Could not find cuda drivers on your machine, GPU will not be used.\n",
      "2024-07-05 17:54:17.581033: E external/local_xla/xla/stream_executor/cuda/cuda_fft.cc:479] Unable to register cuFFT factory: Attempting to register factory for plugin cuFFT when one has already been registered\n",
      "2024-07-05 17:54:17.605994: E external/local_xla/xla/stream_executor/cuda/cuda_dnn.cc:10575] Unable to register cuDNN factory: Attempting to register factory for plugin cuDNN when one has already been registered\n",
      "2024-07-05 17:54:17.606030: E external/local_xla/xla/stream_executor/cuda/cuda_blas.cc:1442] Unable to register cuBLAS factory: Attempting to register factory for plugin cuBLAS when one has already been registered\n",
      "2024-07-05 17:54:17.620771: I tensorflow/core/platform/cpu_feature_guard.cc:210] This TensorFlow binary is optimized to use available CPU instructions in performance-critical operations.\n",
      "To enable the following instructions: AVX2 FMA, in other operations, rebuild TensorFlow with the appropriate compiler flags.\n",
      "2024-07-05 17:54:18.548062: W tensorflow/compiler/tf2tensorrt/utils/py_utils.cc:38] TF-TRT Warning: Could not find TensorRT\n"
     ]
    }
   ],
   "source": [
    "# https://pallawi-ds.medium.com/human-pose-estimation-demo-with-google-mediapipe-b99d58a3c2ea\n",
    "import os\n",
    "import cv2\n",
    "import mediapipe as mp \n",
    "import asyncio"
   ]
  },
  {
   "cell_type": "code",
   "execution_count": 3,
   "id": "b5bec198-acc3-4d5d-aee8-f8e5b4182c9f",
   "metadata": {},
   "outputs": [],
   "source": [
    "os.environ['CUDA_VISIBLE_DEVICES'] = '-1'"
   ]
  },
  {
   "cell_type": "code",
   "execution_count": 4,
   "id": "9c27ddd6-6764-4b9b-b926-0c2c2eb1bcb6",
   "metadata": {},
   "outputs": [],
   "source": [
    "input_video_path = 'sources/v3.mp4'\n",
    "mediapipe_outdir = 'output/'\n",
    "output_video_path=mediapipe_outdir + 'v3p.mp4'"
   ]
  },
  {
   "cell_type": "code",
   "execution_count": 5,
   "id": "a1f96560-fa29-446a-9b5d-9d70320f475f",
   "metadata": {},
   "outputs": [],
   "source": [
    "if not os.path.exists(mediapipe_outdir):\n",
    "    os.makedirs(mediapipe_outdir)"
   ]
  },
  {
   "cell_type": "code",
   "execution_count": 6,
   "id": "fa950c75-e49d-4072-9032-b2d30f8c65fa",
   "metadata": {},
   "outputs": [
    {
     "name": "stderr",
     "output_type": "stream",
     "text": [
      "WARNING: All log messages before absl::InitializeLog() is called are written to STDERR\n",
      "I0000 00:00:1720220078.683740  394735 gl_context_egl.cc:85] Successfully initialized EGL. Major : 1 Minor: 5\n",
      "I0000 00:00:1720220078.687666  395002 gl_context.cc:357] GL version: 3.2 (OpenGL ES 3.2 Mesa 22.3.6), renderer: BONAIRE (, LLVM 15.0.6, DRM 2.50, 6.1.0-22-amd64)\n",
      "INFO: Created TensorFlow Lite XNNPACK delegate for CPU.\n",
      "W0000 00:00:1720220078.770895  394994 inference_feedback_manager.cc:114] Feedback manager requires a model with a single signature inference. Disabling support for feedback tensors.\n",
      "W0000 00:00:1720220078.788404  394993 inference_feedback_manager.cc:114] Feedback manager requires a model with a single signature inference. Disabling support for feedback tensors.\n"
     ]
    }
   ],
   "source": [
    "mp_pose = mp.solutions.pose\n",
    "pose = mp_pose.Pose()"
   ]
  },
  {
   "cell_type": "code",
   "execution_count": 7,
   "id": "5b3eb007-0136-4047-9ece-1d45d34ffde6",
   "metadata": {},
   "outputs": [],
   "source": [
    "mp_drawing = mp.solutions.drawing_utils"
   ]
  },
  {
   "cell_type": "code",
   "execution_count": 8,
   "id": "9656f8ab-21a1-4780-b005-8a7de4b742a8",
   "metadata": {},
   "outputs": [],
   "source": [
    "cap = cv2.VideoCapture(input_video_path)"
   ]
  },
  {
   "cell_type": "code",
   "execution_count": 9,
   "id": "2379a9fa-1150-4641-957d-adfafe9683e0",
   "metadata": {},
   "outputs": [],
   "source": [
    "frame_width = int(cap.get(cv2.CAP_PROP_FRAME_WIDTH))\n",
    "frame_height = int(cap.get(cv2.CAP_PROP_FRAME_HEIGHT))\n",
    "fps = int(cap.get(cv2.CAP_PROP_FPS))"
   ]
  },
  {
   "cell_type": "code",
   "execution_count": 10,
   "id": "3b447d7b-1bd6-4679-8a0b-16a611cfa19c",
   "metadata": {},
   "outputs": [
    {
     "name": "stdout",
     "output_type": "stream",
     "text": [
      "---lll 29 --w: 3840 --h: 2160\n"
     ]
    }
   ],
   "source": [
    "print(f\"---lll {fps} --w: {frame_width} --h: {frame_height}\")"
   ]
  },
  {
   "cell_type": "code",
   "execution_count": 11,
   "id": "01c20d7c-0964-412b-b9e4-b14f7019f703",
   "metadata": {},
   "outputs": [],
   "source": [
    "out = cv2.VideoWriter(output_video_path, cv2.VideoWriter_fourcc(*'mp4v'), fps, (frame_width, frame_height))"
   ]
  },
  {
   "cell_type": "code",
   "execution_count": 12,
   "id": "3916d38c-88b4-45b5-933e-a98ad0bd48e7",
   "metadata": {},
   "outputs": [
    {
     "name": "stderr",
     "output_type": "stream",
     "text": [
      "/home/jea/.local/lib/python3.11/site-packages/google/protobuf/symbol_database.py:55: UserWarning: SymbolDatabase.GetPrototype() is deprecated. Please use message_factory.GetMessageClass() instead. SymbolDatabase.GetPrototype() will be removed soon.\n",
      "  warnings.warn('SymbolDatabase.GetPrototype() is deprecated. Please '\n"
     ]
    }
   ],
   "source": [
    "while cap.isOpened():\n",
    "    success, image = cap.read()\n",
    "    if not success:\n",
    "        break\n",
    "\n",
    "    image = cv2.cvtColor(image, cv2.COLOR_BGR2RGB)\n",
    "    results = pose.process(image)\n",
    "\n",
    "    image = cv2.cvtColor(image, cv2.COLOR_RGB2BGR)\n",
    "    if results.pose_landmarks:\n",
    "        mp_drawing.draw_landmarks(image, results.pose_landmarks, mp_pose.POSE_CONNECTIONS)\n",
    "        \n",
    "    out.write(image)\n",
    "\n",
    "cap.release()\n",
    "out.release()\n",
    "cv2.destroyAllWindows()\n"
   ]
  },
  {
   "cell_type": "code",
   "execution_count": null,
   "id": "b088cf02-76ed-4f1e-9cc2-7d2ec0b5f47f",
   "metadata": {},
   "outputs": [],
   "source": []
  }
 ],
 "metadata": {
  "kernelspec": {
   "display_name": "Python 3 (ipykernel)",
   "language": "python",
   "name": "python3"
  },
  "language_info": {
   "codemirror_mode": {
    "name": "ipython",
    "version": 3
   },
   "file_extension": ".py",
   "mimetype": "text/x-python",
   "name": "python",
   "nbconvert_exporter": "python",
   "pygments_lexer": "ipython3",
   "version": "3.11.2"
  }
 },
 "nbformat": 4,
 "nbformat_minor": 5
}
