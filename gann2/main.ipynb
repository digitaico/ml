{
 "cells": [
  {
   "cell_type": "markdown",
   "id": "d57109af-5c5c-4c86-a93c-dc27ba6500c7",
   "metadata": {
    "editable": true,
    "slideshow": {
     "slide_type": ""
    },
    "tags": []
   },
   "source": [
    "# PYTORCH GANN\n",
    "\n",
    "\n",
    "### Source\n",
    "https://medium.com/@jyotidabass/exploring-gans-a-beginners-guide-with-hands-on-pytorch-implementation-e5b898ead908\n",
    "\n",
    "\n",
    "### Story\n",
    "https://www.pivotaltracker.com/story/show/188236366"
   ]
  },
  {
   "cell_type": "code",
   "execution_count": 1,
   "id": "603b9a3c-1fa9-44fd-96f9-71c9dc7ae162",
   "metadata": {
    "editable": true,
    "slideshow": {
     "slide_type": ""
    },
    "tags": []
   },
   "outputs": [],
   "source": [
    "import pytorch_ocl\n",
    "import pyopencl\n",
    "import torch\n",
    "import torch.nn as nn\n",
    "import torch.optim as optim\n",
    "import torchvision\n",
    "import torchvision.transforms as transforms\n",
    "import matplotlib.pyplot as plt\n",
    "import numpy as np"
   ]
  },
  {
   "cell_type": "code",
   "execution_count": 2,
   "id": "ded44b3f-b4c6-452b-9b6e-19f7ffc62cd1",
   "metadata": {
    "editable": true,
    "slideshow": {
     "slide_type": ""
    },
    "tags": []
   },
   "outputs": [
    {
     "name": "stdout",
     "output_type": "stream",
     "text": [
      "Operational device is OCL:0\n"
     ]
    }
   ],
   "source": [
    "# Get device: cuda, mps or `cpu` on availability\n",
    "for i in range(torch.cuda.device_count()):\n",
    "    print(torch.cuda.get_device_properties(i).name)\n",
    "#torch.randn(10,10,device='cpu')\n",
    "device = 'ocl:0'\n",
    "#torch.randn(10,10,device)\n",
    "\"\"\"\n",
    "device = (\n",
    "    \"cuda\"\n",
    "    if torch.cuda.is_available()\n",
    "    else \"mps\"\n",
    "    if torch.backends.mps.is_available()\n",
    "    else \"cpu\"\n",
    ")\n",
    "\n",
    "\"\"\"\n",
    "\n",
    "print(f\"Operational device is {device.upper()}\")\n"
   ]
  },
  {
   "cell_type": "code",
   "execution_count": null,
   "id": "1080f2f3-1541-4e96-8299-2d7a1afc9a32",
   "metadata": {
    "editable": true,
    "slideshow": {
     "slide_type": ""
    },
    "tags": []
   },
   "outputs": [],
   "source": [
    "# Generator\n",
    "class Generator(nn.Module):\n",
    "    def __init__(self, noise_dim):\n",
    "        super(Generator, self).__init__()\n",
    "        self.noise_dim = noise_dim\n",
    "        self.main = nn.Sequential(\n",
    "            nn.Linear(noise_dim, 7 * 7 * 256 ),\n",
    "            nn.ReLU(True),\n",
    "            nn.Unflatten(1, (256,7,7)),\n",
    "            nn.ConvTranspose2d(256,128,5,stride=1, padding=2),\n",
    "            nn.BatchNorm2d(128),\n",
    "            nn.ReLU(True),\n",
    "            nn.ConvTranspose2d(128,64,5,stride=2,padding=2,output_padding=1),\n",
    "            nn.BatchNorm2d(64),\n",
    "            nn.ReLU(True),\n",
    "            nn.ConvTranspose2d(64,1,5,stride=2,padding=2,output_padding=1),\n",
    "            nn.Tanh()            \n",
    "        )\n",
    "    def forward(self, x):\n",
    "        return self.main(x)"
   ]
  },
  {
   "cell_type": "code",
   "execution_count": null,
   "id": "c8ee80a4-ba25-4576-ad8d-8bafd158f7ad",
   "metadata": {
    "editable": true,
    "slideshow": {
     "slide_type": ""
    },
    "tags": []
   },
   "outputs": [],
   "source": [
    "# Discriminator\n",
    "class Discriminator(nn.Module):\n",
    "    def __init__(self):\n",
    "        super(Discriminator, self).__init__()\n",
    "        self.main = nn.Sequential(\n",
    "            nn.Conv2d(1, 64, 5, stride=2, padding=2),\n",
    "            nn.LeakyReLU(0.2, inplace=True),\n",
    "            nn.BatchNorm2d(64),\n",
    "            nn.Conv2d(64,128,5,stride=2, padding=2),\n",
    "            nn.LeakyReLU(0.2, inplace=True),\n",
    "            nn.BatchNorm2d(128),\n",
    "            nn.Flatten(),\n",
    "            nn.Linear(7 * 7 * 128, 1)\n",
    "        )\n",
    "    def forward(self, x):\n",
    "        return self.main(x)"
   ]
  },
  {
   "cell_type": "markdown",
   "id": "0ff1d259-3a6c-4654-8ac9-7c42f9dac32e",
   "metadata": {
    "editable": true,
    "slideshow": {
     "slide_type": ""
    },
    "tags": []
   },
   "source": [
    "### Training GAN with MNIST Data"
   ]
  },
  {
   "cell_type": "code",
   "execution_count": null,
   "id": "068fd732-e1fe-40b2-b226-7b0d7f3ba46d",
   "metadata": {
    "editable": true,
    "slideshow": {
     "slide_type": ""
    },
    "tags": []
   },
   "outputs": [],
   "source": [
    "NOISE_DIM = 100\n",
    "\n",
    "generator = Generator(NOISE_DIM)\n",
    "discriminator = Discriminator()"
   ]
  },
  {
   "cell_type": "code",
   "execution_count": null,
   "id": "fcb6f15c-5f12-498e-9924-488b3388acaa",
   "metadata": {
    "editable": true,
    "slideshow": {
     "slide_type": ""
    },
    "tags": []
   },
   "outputs": [],
   "source": [
    "generator = generator.to(device)\n",
    "discriminator = discriminator.to(device)"
   ]
  },
  {
   "cell_type": "code",
   "execution_count": null,
   "id": "26d5e63f-28f6-4f4f-b35d-80ac7fdb587f",
   "metadata": {
    "editable": true,
    "slideshow": {
     "slide_type": ""
    },
    "tags": []
   },
   "outputs": [],
   "source": [
    "# Loss function\n",
    "criterion = nn.BCEWithLogitsLoss()"
   ]
  },
  {
   "cell_type": "code",
   "execution_count": null,
   "id": "95156132-6c10-4561-91fb-7d45d461fe06",
   "metadata": {
    "editable": true,
    "slideshow": {
     "slide_type": ""
    },
    "tags": []
   },
   "outputs": [],
   "source": [
    "# Optimizers\n",
    "generator_optimizer = optim.Adam(generator.parameters(), lr=0.0002, betas = (0.5, 0.999))\n",
    "discriminator_optimizer = optim.Adam(discriminator.parameters(), lr=0.0002, betas=(0.5,0.999))"
   ]
  },
  {
   "cell_type": "code",
   "execution_count": null,
   "id": "c112b6f8-f625-4b3b-b1b9-903eb953a201",
   "metadata": {
    "editable": true,
    "slideshow": {
     "slide_type": ""
    },
    "tags": []
   },
   "outputs": [],
   "source": [
    "# Training of hyperparameters\n",
    "NUM_EPOCHS = 5\n",
    "BATCH_SIZE = 256"
   ]
  },
  {
   "cell_type": "code",
   "execution_count": null,
   "id": "0b95a9ab-bf49-4e17-8888-445db340e40c",
   "metadata": {
    "editable": true,
    "slideshow": {
     "slide_type": ""
    },
    "tags": []
   },
   "outputs": [],
   "source": [
    "# Dataloader\n",
    "transform = transforms.Compose([\n",
    "    transforms.ToTensor(),\n",
    "    transforms.Normalize((0.5,),(0.5,))\n",
    "])\n",
    "train_dataset = torchvision.datasets.MNIST(root='./data', train=True, transform=transform, download=True)\n",
    "train_loader = torch.utils.data.DataLoader(train_dataset, batch_size=BATCH_SIZE, shuffle=True)\n",
    "\n",
    "# Training Loop\n",
    "for epoch in range(NUM_EPOCHS):\n",
    "    for i, data in enumerate(train_loader):\n",
    "        real_images, _ = data\n",
    "        real_images = real_images.to(device)\n",
    "\n",
    "        # Train Discriminator with real images\n",
    "        discriminator_optimizer.zero_grad()\n",
    "        real_labels = torch.ones(real_images.size(0), 1, device=device)\n",
    "        real_outputs = discriminator(real_images)\n",
    "        real_loss = criterion(real_outputs, real_labels)\n",
    "        real_loss.backward()\n",
    "\n",
    "        # Train Discriminator with fake images\n",
    "        noise = torch.randn(real_images.size(0), NOISE_DIM, device=device)\n",
    "        fake_images = generator(noise)\n",
    "        fake_labels = torch.zeros(real_images.size(0), 1, device=device)\n",
    "        fake_outputs = discriminator(fake_images.detach())\n",
    "        fake_loss = criterion(fake_outputs, fake_labels)\n",
    "        fake_loss.backward()\n",
    "        discriminator_optimizer.step()\n",
    "\n",
    "        # Train Generator\n",
    "        generator_optimizer.zero_grad()\n",
    "        fake_labels = torch.ones(real_images.size(0), 1, device=device)\n",
    "        fake_outputs = discriminator(fake_images)\n",
    "        gen_loss = criterion(fake_outputs, fake_labels)\n",
    "        gen_loss.backward()\n",
    "        generator_optimizer.step()\n",
    "\n",
    "        # Print Losses\n",
    "        if i % 100 == 0:\n",
    "            print(f'Epoch [{epoch+1}/{NUM_EPOCHS}], Step [{i+1}/{len(train_loader)}], '\n",
    "                  f'Discriminator Loss: {real_loss.item() + fake_loss.item():.4f}, '\n",
    "                  f'Generator Loss: {gen_loss.item():.4f}')\n"
   ]
  },
  {
   "cell_type": "code",
   "execution_count": null,
   "id": "f878f25d-af05-4549-9976-9aeef3fda8c1",
   "metadata": {
    "editable": true,
    "slideshow": {
     "slide_type": ""
    },
    "tags": []
   },
   "outputs": [],
   "source": [
    "# Generate and save images\n",
    "def generate_and_save_images(model, epoch, noise):\n",
    "    model.eval()\n",
    "    with torch.no_grad():\n",
    "        fake_images = model(noise).cpu()\n",
    "        fake_images = fake_images.view(fake_images.size(0), 28, 28)\n",
    "\n",
    "        fig = plt.figure(figsize=(4, 4))\n",
    "        for i in range(fake_images.size(0)):\n",
    "            plt.subplot(4,4, i+1)\n",
    "            plt.imshow(fake_images[i], cmap='gray')\n",
    "            plt.axis('off')\n",
    "\n",
    "        plt.savefig(f'image_at_epoch_{epoch+1:04d}.png')\n",
    "        plt.show()"
   ]
  },
  {
   "cell_type": "code",
   "execution_count": null,
   "id": "41885b37-6fdb-49f5-9485-9bff800723da",
   "metadata": {
    "editable": true,
    "slideshow": {
     "slide_type": ""
    },
    "tags": []
   },
   "outputs": [],
   "source": [
    "# Generate Test Noise\n",
    "test_noise = torch.randn(16, NOISE_DIM, device=device)\n",
    "generate_and_save_images(generator, NUM_EPOCHS, test_noise)"
   ]
  },
  {
   "cell_type": "code",
   "execution_count": null,
   "id": "3b509968-a7cd-4cbb-bdaf-66410ad9bb55",
   "metadata": {},
   "outputs": [],
   "source": []
  }
 ],
 "metadata": {
  "kernelspec": {
   "display_name": "Python 3 (ipykernel)",
   "language": "python",
   "name": "python3"
  },
  "language_info": {
   "codemirror_mode": {
    "name": "ipython",
    "version": 3
   },
   "file_extension": ".py",
   "mimetype": "text/x-python",
   "name": "python",
   "nbconvert_exporter": "python",
   "pygments_lexer": "ipython3",
   "version": "3.11.2"
  }
 },
 "nbformat": 4,
 "nbformat_minor": 5
}
