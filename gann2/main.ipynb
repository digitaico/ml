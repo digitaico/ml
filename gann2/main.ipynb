{
 "cells": [
  {
   "cell_type": "markdown",
   "id": "d57109af-5c5c-4c86-a93c-dc27ba6500c7",
   "metadata": {},
   "source": [
    "# PYTORCH GANN\n",
    "\n",
    "\n",
    "### Source\n",
    "https://medium.com/@jyotidabass/exploring-gans-a-beginners-guide-with-hands-on-pytorch-implementation-e5b898ead908\n",
    "\n",
    "\n",
    "### Story\n",
    "https://www.pivotaltracker.com/story/show/188236366"
   ]
  },
  {
   "cell_type": "code",
   "execution_count": 1,
   "id": "603b9a3c-1fa9-44fd-96f9-71c9dc7ae162",
   "metadata": {},
   "outputs": [],
   "source": [
    "import torch\n",
    "import torch.nn as nn\n",
    "import torch.optim as optim\n",
    "import torchvision\n",
    "import torchvision.transforms as transforms\n",
    "import matplotlib as plt\n",
    "import numpy as np"
   ]
  },
  {
   "cell_type": "code",
   "execution_count": 3,
   "id": "ded44b3f-b4c6-452b-9b6e-19f7ffc62cd1",
   "metadata": {},
   "outputs": [
    {
     "name": "stdout",
     "output_type": "stream",
     "text": [
      "Operational device is CPU\n"
     ]
    }
   ],
   "source": [
    "# Get device: cuda, mps or `cpu` on availability\n",
    "device = (\n",
    "    \"cuda\"\n",
    "    if torch.cuda.is_available()\n",
    "    else \"mps\"\n",
    "    if torch.backends.mps.is_available()\n",
    "    else \"cpu\"\n",
    ")\n",
    "\n",
    "print(f\"Operational device is {device.upper()}\")"
   ]
  },
  {
   "cell_type": "code",
   "execution_count": null,
   "id": "1080f2f3-1541-4e96-8299-2d7a1afc9a32",
   "metadata": {
    "editable": true,
    "slideshow": {
     "slide_type": ""
    },
    "tags": []
   },
   "outputs": [],
   "source": [
    "# Generator\n",
    "class Generator(nn.Module):\n",
    "    def __init__(self, noise_dim):\n",
    "        super(Generator, self).__init__()\n",
    "        self.noise_dim = noise_dim\n",
    "        self.main = nn.Sequential(\n",
    "            nn.Linear(noise_dim, 7 * 7 * 256 ),\n",
    "            nn.ReLU(True),\n",
    "            nn.Unflatten(1, (256,7,7)),\n",
    "            nn.ConvTranspose2d(256,128,5,stride=1, padding=2),\n",
    "            nn.BatchNorm2d(128),\n",
    "            nn.ReLU(True)\n",
    "            nn.ConvTranspose2d(128,64,5,stride=2,padding=2,output_padding=1),\n",
    "            nn.BatchNorm2d(64),\n",
    "            nn.ReLU(True)\n",
    "            nn.ConvTranspose2d(64,1,5,stride=2,padding=2,output_padding=1),\n",
    "            nn.Tanh()            \n",
    "        )"
   ]
  },
  {
   "cell_type": "code",
   "execution_count": null,
   "id": "ff826ef6-cfe2-4628-814b-de87fbc29242",
   "metadata": {},
   "outputs": [],
   "source": [
    "    def forward(self, x):\n",
    "        return self.main(x)"
   ]
  }
 ],
 "metadata": {
  "kernelspec": {
   "display_name": "Python 3 (ipykernel)",
   "language": "python",
   "name": "python3"
  },
  "language_info": {
   "codemirror_mode": {
    "name": "ipython",
    "version": 3
   },
   "file_extension": ".py",
   "mimetype": "text/x-python",
   "name": "python",
   "nbconvert_exporter": "python",
   "pygments_lexer": "ipython3",
   "version": "3.11.2"
  }
 },
 "nbformat": 4,
 "nbformat_minor": 5
}
