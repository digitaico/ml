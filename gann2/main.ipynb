{
 "cells": [
  {
   "cell_type": "markdown",
   "id": "d57109af-5c5c-4c86-a93c-dc27ba6500c7",
   "metadata": {},
   "source": [
    "# PYTORCH GANN\n",
    "\n",
    "\n",
    "### Source\n",
    "https://medium.com/@jyotidabass/exploring-gans-a-beginners-guide-with-hands-on-pytorch-implementation-e5b898ead908\n",
    "\n",
    "\n",
    "### Story\n",
    "https://www.pivotaltracker.com/story/show/188236366"
   ]
  },
  {
   "cell_type": "code",
   "execution_count": null,
   "id": "603b9a3c-1fa9-44fd-96f9-71c9dc7ae162",
   "metadata": {},
   "outputs": [],
   "source": []
  }
 ],
 "metadata": {
  "kernelspec": {
   "display_name": "Python 3 (ipykernel)",
   "language": "python",
   "name": "python3"
  },
  "language_info": {
   "codemirror_mode": {
    "name": "ipython",
    "version": 3
   },
   "file_extension": ".py",
   "mimetype": "text/x-python",
   "name": "python",
   "nbconvert_exporter": "python",
   "pygments_lexer": "ipython3",
   "version": "3.11.2"
  }
 },
 "nbformat": 4,
 "nbformat_minor": 5
}
