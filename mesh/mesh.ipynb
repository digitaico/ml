{
 "cells": [
  {
   "cell_type": "markdown",
   "id": "d7130e49-7b05-4048-99e1-159d78924e09",
   "metadata": {},
   "source": [
    "## Mesh Playground\n",
    "\n",
    "### Multiple scripts to load and transform 3D objects or meshs."
   ]
  },
  {
   "cell_type": "code",
   "execution_count": null,
   "id": "eb808d23-e136-4b54-a3c4-219d5e48b6e8",
   "metadata": {},
   "outputs": [],
   "source": [
    "import pyvista as pv\n",
    "#pv.set_jupyter_backend('server')\n",
    "from pyvista import examples\n",
    "#pv.Report()"
   ]
  },
  {
   "cell_type": "code",
   "execution_count": null,
   "id": "c19b9e14-13d8-4e1f-a4e7-d21b08922177",
   "metadata": {},
   "outputs": [],
   "source": [
    "obj = examples.download_doorman()"
   ]
  },
  {
   "cell_type": "code",
   "execution_count": null,
   "id": "ddb28184-ea0d-4e60-a83c-b99bb2057401",
   "metadata": {},
   "outputs": [],
   "source": [
    "obj.plot()"
   ]
  },
  {
   "cell_type": "code",
   "execution_count": null,
   "id": "26a7685c-b5f5-441f-8b3b-d2ea65dd6367",
   "metadata": {},
   "outputs": [],
   "source": [
    "plotter = pv.Plotter()\n",
    "plotter.add_mesh(obj, show_edges=True, edge_color='white',  line_width=0.01)\n",
    "#plotter.export_obj('plane.obj')"
   ]
  },
  {
   "cell_type": "code",
   "execution_count": null,
   "id": "8059bd53-2fac-4417-87c8-fae4abfc3f8a",
   "metadata": {},
   "outputs": [],
   "source": [
    "plotter.camera_position = \"xy\"\n",
    "plotter.show(screenshot=\"toma1.png\")"
   ]
  },
  {
   "cell_type": "code",
   "execution_count": null,
   "id": "7fc8fdae-8dc8-4cc5-8ae1-4f31b1470b5a",
   "metadata": {},
   "outputs": [],
   "source": [
    "plotter.camera_position = \"zy\"\n",
    "plotter.show(screenshot=\"toma2.png\")"
   ]
  },
  {
   "cell_type": "code",
   "execution_count": null,
   "id": "a4e295d8-41a6-483f-867c-badff65ad26e",
   "metadata": {},
   "outputs": [],
   "source": [
    "plotter.camera_position = \"zx\"\n",
    "plotter.show(screenshot=\"toma3.png\")"
   ]
  },
  {
   "cell_type": "code",
   "execution_count": null,
   "id": "d9d83373-9970-4cfd-9288-50bae3ce903a",
   "metadata": {},
   "outputs": [],
   "source": [
    "plotter.camera_position = \"yx\"\n",
    "plotter.show(screenshot=\"toma4.png\")"
   ]
  }
 ],
 "metadata": {
  "kernelspec": {
   "display_name": "Python 3 (ipykernel)",
   "language": "python",
   "name": "python3"
  },
  "language_info": {
   "codemirror_mode": {
    "name": "ipython",
    "version": 3
   },
   "file_extension": ".py",
   "mimetype": "text/x-python",
   "name": "python",
   "nbconvert_exporter": "python",
   "pygments_lexer": "ipython3",
   "version": "3.11.2"
  }
 },
 "nbformat": 4,
 "nbformat_minor": 5
}
