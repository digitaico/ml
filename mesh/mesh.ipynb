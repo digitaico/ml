{
 "cells": [
  {
   "cell_type": "markdown",
   "id": "d7130e49-7b05-4048-99e1-159d78924e09",
   "metadata": {},
   "source": [
    "## Mesh Playground\n",
    "\n",
    "### Multiple scripts to load and transform 3D objects or meshs."
   ]
  },
  {
   "cell_type": "code",
   "execution_count": null,
   "id": "eb808d23-e136-4b54-a3c4-219d5e48b6e8",
   "metadata": {},
   "outputs": [],
   "source": [
    "import pyvista as pv"
   ]
  },
  {
   "cell_type": "code",
   "execution_count": null,
   "id": "c19b9e14-13d8-4e1f-a4e7-d21b08922177",
   "metadata": {},
   "outputs": [],
   "source": [
    "obj = 'sap.obj'"
   ]
  },
  {
   "cell_type": "code",
   "execution_count": null,
   "id": "ddb28184-ea0d-4e60-a83c-b99bb2057401",
   "metadata": {},
   "outputs": [],
   "source": [
    "mesh = pv.read(obj)\n",
    "cpos = mesh.plot()"
   ]
  }
 ],
 "metadata": {
  "kernelspec": {
   "display_name": "Python 3 (ipykernel)",
   "language": "python",
   "name": "python3"
  },
  "language_info": {
   "codemirror_mode": {
    "name": "ipython",
    "version": 3
   },
   "file_extension": ".py",
   "mimetype": "text/x-python",
   "name": "python",
   "nbconvert_exporter": "python",
   "pygments_lexer": "ipython3",
   "version": "3.11.2"
  }
 },
 "nbformat": 4,
 "nbformat_minor": 5
}
