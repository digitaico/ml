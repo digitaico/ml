{
 "cells": [
  {
   "cell_type": "markdown",
   "id": "38356f56-0d7d-4e35-abd2-325cbc10afd3",
   "metadata": {},
   "source": [
    "#### [Story](https://www.pivotaltracker.com/story/show/187943247)\n",
    "### [Source](https://www.geeksforgeeks.org/generating-meshes-in-python/)"
   ]
  },
  {
   "cell_type": "markdown",
   "id": "1ace76fa-822b-496d-bedc-1f73c4d5ce94",
   "metadata": {},
   "source": [
    "#### Adding surfaces to Mesh"
   ]
  },
  {
   "cell_type": "code",
   "execution_count": null,
   "id": "fe12b6cd-7dc2-4860-8ab6-a4016aff23ea",
   "metadata": {},
   "outputs": [],
   "source": [
    "import numpy as np\n",
    "import pyvista as pv"
   ]
  },
  {
   "cell_type": "code",
   "execution_count": null,
   "id": "1d352290-3949-4bb5-9db7-c1f93a909c8f",
   "metadata": {},
   "outputs": [],
   "source": [
    "# torus parameters\n",
    "radius = 2\n",
    "n1 = 3\n",
    "n2 = 7"
   ]
  },
  {
   "cell_type": "code",
   "execution_count": null,
   "id": "16d7f46a-390e-466c-baa1-ff014a67a9ac",
   "metadata": {},
   "outputs": [],
   "source": [
    "# Function to create torus knot\n",
    "def torus_knot(u,v):\n",
    "    x = (radius + np.cos(n1 * u) * 0.5) * np.cos(n2 * v)\n",
    "    y = (radius + np.cos(n1 * u) * 0.5) * np.sin(n2 * v)\n",
    "    z = np.sin(n1 * u) * 0.5\n",
    "    return x, y, z"
   ]
  },
  {
   "cell_type": "code",
   "execution_count": null,
   "id": "5ab1658d-f3ef-4f51-83b5-cdf0ec3004b4",
   "metadata": {},
   "outputs": [],
   "source": [
    "# Create a mesh from function, pyVista\n",
    "u = np.linspace(0,2*np.pi, 100)\n",
    "v = np.linspace(0,2*np.pi,100)\n",
    "x,y,z = torus_knot(*np.meshgrid(u,v,indexing='ij'))\n",
    "points = np.column_stack((x.ravel(), y.ravel(), z.ravel()))\n",
    "mesh = pv.PolyData(points)\n",
    "mesh.triangulate()\n",
    "mesh = mesh.extract_surface()"
   ]
  },
  {
   "cell_type": "code",
   "execution_count": null,
   "id": "600e7686-5ece-4faf-98ea-869718d9de66",
   "metadata": {},
   "outputs": [],
   "source": [
    "# torus mesh visualization\n",
    "pv.plot(mesh, color='orange', smooth_shading=True)"
   ]
  },
  {
   "cell_type": "code",
   "execution_count": null,
   "id": "f1ed0ce1-a836-4089-a799-7a94fd6d17d7",
   "metadata": {},
   "outputs": [],
   "source": [
    "#pv.Report()"
   ]
  }
 ],
 "metadata": {
  "kernelspec": {
   "display_name": "Python 3 (ipykernel)",
   "language": "python",
   "name": "python3"
  },
  "language_info": {
   "codemirror_mode": {
    "name": "ipython",
    "version": 3
   },
   "file_extension": ".py",
   "mimetype": "text/x-python",
   "name": "python",
   "nbconvert_exporter": "python",
   "pygments_lexer": "ipython3",
   "version": "3.11.2"
  }
 },
 "nbformat": 4,
 "nbformat_minor": 5
}
