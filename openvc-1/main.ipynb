{
 "cells": [
  {
   "cell_type": "markdown",
   "id": "10a26263-ece1-45bf-8568-9b5623afcb40",
   "metadata": {},
   "source": [
    "## OpenCv HandsOn\n",
    "\n",
    "Learn OpnCv by doing.  Basic and intermediate stuff.\n",
    "\n",
    "### [Story](https://www.pivotaltracker.com/story/show/188238649)"
   ]
  },
  {
   "cell_type": "code",
   "execution_count": 1,
   "id": "6404fc73-1edc-4f50-b371-84edcd6f8b45",
   "metadata": {},
   "outputs": [],
   "source": [
    "import cv2 as cv\n",
    "import sys"
   ]
  },
  {
   "cell_type": "code",
   "execution_count": 2,
   "id": "dabcd974-9f9b-4bfb-a976-c2297a7f97a0",
   "metadata": {},
   "outputs": [],
   "source": [
    "#img = cv.imread(cv.samples.findFile(\"starry_night.jpg\")) # Did not find the image\n",
    "img = cv.imread(\"image.png\")\n",
    "\n",
    "if img is None:\n",
    "    sys.exit(\"Could not read the image\")"
   ]
  },
  {
   "cell_type": "code",
   "execution_count": null,
   "id": "d386487d-1001-44b3-9db8-ea697507c299",
   "metadata": {},
   "outputs": [],
   "source": [
    "cv.imshow(\"Display window\", img)\n",
    "k = cv.waitKey(0)\n",
    "\n",
    "if k == ord(\"s\"):\n",
    "    cv.imwrite(\"Test Image by JEA\")\n",
    "k = cv.waitKey(0)\n"
   ]
  },
  {
   "cell_type": "code",
   "execution_count": null,
   "id": "3860193b-7149-47ea-a2ee-06ca278bd951",
   "metadata": {},
   "outputs": [],
   "source": [
    "# OpenCL\n",
    "# https://docs.opencv.org/4.x/d6/dea/tutorial_env_reference.html\n",
    "OPENCV_OPENCL_DEVICE=:GPU:0\n",
    "\n",
    "print(cv.ocl.haveOpenCL())\n",
    "cv2.ocl.setUseOpenCL(True)\n",
    "print(cv2.ocl.useOPenCL())"
   ]
  },
  {
   "cell_type": "code",
   "execution_count": null,
   "id": "d2641d9f-ded1-4cc7-bf9e-15def355036d",
   "metadata": {},
   "outputs": [],
   "source": []
  }
 ],
 "metadata": {
  "kernelspec": {
   "display_name": "Python 3 (ipykernel)",
   "language": "python",
   "name": "python3"
  },
  "language_info": {
   "codemirror_mode": {
    "name": "ipython",
    "version": 3
   },
   "file_extension": ".py",
   "mimetype": "text/x-python",
   "name": "python",
   "nbconvert_exporter": "python",
   "pygments_lexer": "ipython3",
   "version": "3.11.2"
  }
 },
 "nbformat": 4,
 "nbformat_minor": 5
}
