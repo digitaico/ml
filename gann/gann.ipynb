{
 "cells": [
  {
   "cell_type": "markdown",
   "id": "ca551e26-c9b4-4220-b534-f96929250783",
   "metadata": {},
   "source": [
    "# GANN v-0.1\n",
    "\n",
    "### [Source](https://www.run.ai/guides/deep-learning-for-computer-vision/pytorch-gan)\n",
    "\n",
    "### [Story](https://www.pivotaltracker.com/story/show/188131804)\n",
    "\n",
    "Wont use `Tensorflow` `Keras`, due to strict requiremnts of GPU. \n",
    "\n",
    "Instead use `pytorch GAN` "
   ]
  },
  {
   "cell_type": "code",
   "execution_count": 1,
   "id": "9d382478-bb9a-4512-a327-ce701147c8a9",
   "metadata": {},
   "outputs": [],
   "source": [
    "import torch\n",
    "\n",
    "\n",
    "use_gpu = True if torch.cuda.is_available() else False"
   ]
  },
  {
   "cell_type": "code",
   "execution_count": 2,
   "id": "052e1e22-dbd9-49b5-8666-9dc7fa4667c9",
   "metadata": {},
   "outputs": [
    {
     "name": "stderr",
     "output_type": "stream",
     "text": [
      "Using cache found in /home/jea/.cache/torch/hub/facebookresearch_pytorch_GAN_zoo_hub\n"
     ]
    }
   ],
   "source": [
    "model = torch.hub.load('facebookresearch/pytorch_GAN_zoo:hub', 'PGAN', model_name='celebAHQ-512', pretraines=True, useGPU=False)"
   ]
  },
  {
   "cell_type": "code",
   "execution_count": 2,
   "id": "ded2d393-f60d-4274-a9ba-3c41497f6764",
   "metadata": {},
   "outputs": [],
   "source": [
    "\n",
    "    "
   ]
  },
  {
   "cell_type": "code",
   "execution_count": null,
   "id": "3782c12f-16c0-4c71-9a41-b0f158c989e6",
   "metadata": {},
   "outputs": [],
   "source": []
  },
  {
   "cell_type": "code",
   "execution_count": null,
   "id": "665c3d3f-78c6-45a8-ad5c-7a7f1a4e3492",
   "metadata": {},
   "outputs": [],
   "source": []
  }
 ],
 "metadata": {
  "kernelspec": {
   "display_name": "Python 3 (ipykernel)",
   "language": "python",
   "name": "python3"
  },
  "language_info": {
   "codemirror_mode": {
    "name": "ipython",
    "version": 3
   },
   "file_extension": ".py",
   "mimetype": "text/x-python",
   "name": "python",
   "nbconvert_exporter": "python",
   "pygments_lexer": "ipython3",
   "version": "3.11.2"
  }
 },
 "nbformat": 4,
 "nbformat_minor": 5
}
