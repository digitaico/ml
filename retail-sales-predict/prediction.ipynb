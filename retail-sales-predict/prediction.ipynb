{
 "cells": [
  {
   "cell_type": "markdown",
   "id": "1bced092-5c79-4255-acc7-f1bfcfe4d908",
   "metadata": {},
   "source": [
    "# Retail Sales Prediction NN\n",
    "\n",
    "## [Story](https://www.pivotaltracker.com/story/show/187987724)\n",
    "\n",
    "## [Source](https://medium.com/@iabbasali/big-mart-sales-prediction-using-machine-learning-b92976e53223)"
   ]
  },
  {
   "cell_type": "code",
   "execution_count": null,
   "id": "fa6300dd-59cd-4798-b835-2e71946764ca",
   "metadata": {},
   "outputs": [],
   "source": []
  }
 ],
 "metadata": {
  "kernelspec": {
   "display_name": "Python 3 (ipykernel)",
   "language": "python",
   "name": "python3"
  },
  "language_info": {
   "codemirror_mode": {
    "name": "ipython",
    "version": 3
   },
   "file_extension": ".py",
   "mimetype": "text/x-python",
   "name": "python",
   "nbconvert_exporter": "python",
   "pygments_lexer": "ipython3",
   "version": "3.11.2"
  }
 },
 "nbformat": 4,
 "nbformat_minor": 5
}
