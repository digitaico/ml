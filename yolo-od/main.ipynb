{
 "cells": [
  {
   "cell_type": "markdown",
   "id": "98f803c9-22de-4415-900f-6884c1448502",
   "metadata": {},
   "source": [
    "# YOLO Object Detection\n",
    "\n",
    "\n",
    "### [Source](https://medium.com/@sunnykumar1516/object-tracking-in-yolo-using-python-and-open-cv-655b44808e32)\n",
    "\n",
    "### Object Detection Using YOLOv9"
   ]
  },
  {
   "cell_type": "markdown",
   "id": "64324d76-1454-4111-bc09-306c2d4936fd",
   "metadata": {},
   "source": [
    "\n",
    "\n",
    "```ruby\n",
    "Pseudocode \n",
    "\n",
    "- Load pretrained model\n",
    "- Load video\n",
    "- Extract each frame from video\n",
    "- For each frame apply model prediction\n",
    "- Show the result\n",
    "\n",
    "```"
   ]
  },
  {
   "cell_type": "markdown",
   "id": "75b79371-4e81-406b-b957-13375379de83",
   "metadata": {},
   "source": []
  },
  {
   "cell_type": "code",
   "execution_count": 2,
   "id": "7eb99045-d1b7-4d2c-ab69-a7e6309bbc06",
   "metadata": {},
   "outputs": [],
   "source": [
    "import cv2 as cv\n",
    "from ultralytics import YOLO\n",
    "import imutils"
   ]
  },
  {
   "cell_type": "code",
   "execution_count": 3,
   "id": "eedae4f0-cbe2-4253-a1b6-582f1ddd20fb",
   "metadata": {},
   "outputs": [],
   "source": [
    "# draw bounding box\n",
    "# data: prediction details; image: frame; name: detected class name or label\n",
    "def drawBox(data,image,name):\n",
    "    x1, y1, x2, y2, conf, id = data\n",
    "    p1 = (int(x1), int(y1))\n",
    "    p2 = (int(x2), int(y2))\n",
    "    cv.rectangle(image, p1, p2,(0,0,255), 3)\n",
    "    cv.putText(image, str(name), p1, cv.FONT_HERSHEY_SIMPLEX, 3, (0,0,255), 3)\n",
    "    return image \n",
    "    "
   ]
  },
  {
   "cell_type": "code",
   "execution_count": 6,
   "id": "ad7e7c8d-5eba-4881-baf3-994f8a4225ff",
   "metadata": {},
   "outputs": [],
   "source": [
    "detection_classes = []\n",
    "path = \"./sources/video_running.mp4\""
   ]
  },
  {
   "cell_type": "code",
   "execution_count": 9,
   "id": "75a9d6b0-ad16-4ac6-a258-dbb55151d903",
   "metadata": {},
   "outputs": [],
   "source": [
    "# read video\n",
    "vs = cv.VideoCapture(path)\n",
    "\n",
    "# load model\n",
    "model = YOLO('yolov8n.pt')"
   ]
  },
  {
   "cell_type": "code",
   "execution_count": null,
   "id": "5000a28f-d1dc-46e2-aee5-6ef5e78db36b",
   "metadata": {},
   "outputs": [],
   "source": [
    "# Extract frames\n",
    "#  loop through frames\n",
    "# predict on each frame\n",
    "# store prediction on results\n",
    "\n",
    "while True:\n",
    "    (grabbed,frame) = vs.read()\n",
    "    if not grabbed:\n",
    "        break\n",
    "    results = model.predict(frame,stream=False)\n",
    "    detection_classes = results[0].names\n",
    "    for result in results:\n",
    "        for data in result.boxes.data.tolist():\n",
    "            print(data)\n",
    "            id=data[5]\n",
    "            drawBox(data,frame,detection_classes)\n"
   ]
  },
  {
   "cell_type": "code",
   "execution_count": null,
   "id": "fac2e2f0-8083-41b2-9d6d-4a7f04c03fc7",
   "metadata": {},
   "outputs": [],
   "source": []
  },
  {
   "cell_type": "code",
   "execution_count": null,
   "id": "645af990-ffce-4fc6-99b8-2f1f1e95047b",
   "metadata": {},
   "outputs": [],
   "source": []
  }
 ],
 "metadata": {
  "kernelspec": {
   "display_name": "Python 3 (ipykernel)",
   "language": "python",
   "name": "python3"
  },
  "language_info": {
   "codemirror_mode": {
    "name": "ipython",
    "version": 3
   },
   "file_extension": ".py",
   "mimetype": "text/x-python",
   "name": "python",
   "nbconvert_exporter": "python",
   "pygments_lexer": "ipython3",
   "version": "3.11.2"
  }
 },
 "nbformat": 4,
 "nbformat_minor": 5
}
