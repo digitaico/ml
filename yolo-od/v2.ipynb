{
 "cells": [
  {
   "cell_type": "code",
   "execution_count": 1,
   "id": "15e364f2-96c1-4d7b-8718-6575ed41579c",
   "metadata": {},
   "outputs": [],
   "source": [
    "import cv2 as cv\n",
    "import imutils\n",
    "from ultralytics import YOLO\n",
    "import numpy as np"
   ]
  },
  {
   "cell_type": "code",
   "execution_count": null,
   "id": "bb1b166a-b6a4-49b8-87ac-5e9b5304dc48",
   "metadata": {},
   "outputs": [],
   "source": [
    "def apply_yoloV8onVideo():\n",
    "    cache_points = []\n",
    "    flag = True\n",
    "    writer = None\n",
    "    (W, H) = (None, None)\n",
    "\n",
    "    model = YOLO('yolov8n.pt')\n",
    "    model.classes = [0]\n",
    "    path = \"./sources/video_dogs_2.mp4\"\n",
    "    vs = cv.VideoCapture(path)\n",
    "    results = model.predict(source=path,stream=True)\n",
    "\n",
    "    writer = None\n",
    "    for result in results:\n",
    "        print(\"names:-\", result.verbose())\n",
    "        print(\"classes:--\",result.boxes.cls)\n",
    "\n",
    "        i = 0\n",
    "        image = result.plot()\n",
    "        if result:# drawing custom boxes\n",
    "            loc = result.boxes.xywh[0]\n",
    "            loc = loc.numpy()\n",
    "            cache_points.append(loc)\n",
    "            #image = draw_CustomBox(loc,image)\n",
    "            cache_points.append(loc)\n",
    "\n",
    "\n",
    "\n",
    "        # saving the video file\n",
    "        if writer is None:\n",
    "            # initialize our video writer\n",
    "            fourcc = cv.VideoWriter_fourcc(*\"MJPG\")\n",
    "            writer = cv.VideoWriter(\"video_tagged.avi\", fourcc, 24,\n",
    "                                    (image.shape[1], image.shape[0]), True)\n",
    "        print(\"writing\")\n",
    "        writer.write(image)\n",
    "\n",
    "     # release the file pointers\n",
    "    print(\"[INFO] cleaning up...\")\n",
    "    writer.release()\n",
    "    vs.release()"
   ]
  },
  {
   "cell_type": "code",
   "execution_count": null,
   "id": "548fc50f-d9e5-4bb0-91ba-b5878b68016c",
   "metadata": {},
   "outputs": [],
   "source": [
    "def draw_CustomBox(loc,image):\n",
    "\n",
    "    center_coordinates = (int(loc[0]), int(loc[1]))\n",
    "    radius = 80\n",
    "    color = (0, 255, 0)\n",
    "    thickness = -1\n",
    "    sample = cv.circle(image, center_coordinates, radius, color, thickness)\n",
    "    return sample"
   ]
  },
  {
   "cell_type": "code",
   "execution_count": null,
   "id": "44640487-ad81-4e5a-a3d2-7c7a7414bca8",
   "metadata": {},
   "outputs": [],
   "source": [
    "def custom_line(cache_points,image):\n",
    "    if len(cache_points)>=2:\n",
    "\n",
    "        p1 = (int(cache_points[-1][0]),int(cache_points[-1][1]))\n",
    "        p2 = (int(cache_points[-2][0]), int(cache_points[-2][1]))\n",
    "        p1= (33,33)\n",
    "        p2 = (900,400)\n",
    "        image = cv.line(image, p1, p2, (0, 255, 0), thickness=10)\n",
    "    return image"
   ]
  },
  {
   "cell_type": "code",
   "execution_count": null,
   "id": "7ba72f0d-dd62-48ef-946f-23b750834f4b",
   "metadata": {},
   "outputs": [],
   "source": [
    "apply_yoloV8onVideo()"
   ]
  },
  {
   "cell_type": "code",
   "execution_count": null,
   "id": "1e6ae31c-db2b-4ba3-bc86-363f7df2fd9f",
   "metadata": {},
   "outputs": [],
   "source": []
  }
 ],
 "metadata": {
  "kernelspec": {
   "display_name": "Python 3 (ipykernel)",
   "language": "python",
   "name": "python3"
  },
  "language_info": {
   "codemirror_mode": {
    "name": "ipython",
    "version": 3
   },
   "file_extension": ".py",
   "mimetype": "text/x-python",
   "name": "python",
   "nbconvert_exporter": "python",
   "pygments_lexer": "ipython3",
   "version": "3.11.2"
  }
 },
 "nbformat": 4,
 "nbformat_minor": 5
}
