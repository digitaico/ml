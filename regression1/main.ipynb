{
 "cells": [
  {
   "cell_type": "markdown",
   "id": "9221a4c9-7f72-41ff-8868-478b264117ee",
   "metadata": {},
   "source": [
    "# Build a Regression Model - PyTorch\n",
    "\n",
    "| [Story](https://www.pivotaltracker.com/story/show/188279486) | [Source](https://machinelearningmastery.com/building-a-regression-model-in-pytorch/) | [Dataset](https://scikit-learn.org/stable/datasets/real_world.html#california-housing-dataset) |\n"
   ]
  },
  {
   "cell_type": "markdown",
   "id": "5e9eb2c4-6012-4ab3-949a-b7f0a2d8d386",
   "metadata": {},
   "source": [
    "#### Load Data"
   ]
  },
  {
   "cell_type": "code",
   "execution_count": 1,
   "id": "3ba33ebb-2c2a-40df-b3c7-14a9541c8a94",
   "metadata": {},
   "outputs": [
    {
     "name": "stdout",
     "output_type": "stream",
     "text": [
      "['MedInc', 'HouseAge', 'AveRooms', 'AveBedrms', 'Population', 'AveOccup', 'Latitude', 'Longitude']\n"
     ]
    }
   ],
   "source": [
    "from sklearn.datasets import fetch_california_housing\n",
    "\n",
    "data = fetch_california_housing()\n",
    "print(data.feature_names)"
   ]
  },
  {
   "cell_type": "code",
   "execution_count": 2,
   "id": "0f838e7e-f402-4983-b205-763e049db16b",
   "metadata": {},
   "outputs": [],
   "source": [
    "X, y = data.data, data.target"
   ]
  },
  {
   "cell_type": "markdown",
   "id": "7ea92e80-bd73-4153-af54-ebf8864a9be6",
   "metadata": {},
   "source": [
    "#### Build Model"
   ]
  },
  {
   "cell_type": "code",
   "execution_count": 3,
   "id": "8a311504-9f2c-4cb0-b52f-1a7b2b82bf0c",
   "metadata": {},
   "outputs": [],
   "source": [
    "import torch.nn as nn\n",
    "\n",
    "model = nn.Sequential(\n",
    "    nn.Linear(8,24),\n",
    "    nn.ReLU(),\n",
    "    nn.Linear(24, 12),\n",
    "    nn.ReLU(),\n",
    "    nn.Linear(12, 6),\n",
    "    nn.ReLU(),\n",
    "    nn.Linear(6, 1),\n",
    ")"
   ]
  },
  {
   "cell_type": "markdown",
   "id": "65ef2461-61f2-4873-bfd2-55631fefebc2",
   "metadata": {},
   "source": [
    "#### Train Model"
   ]
  },
  {
   "cell_type": "markdown",
   "id": "a4731c59-8897-493b-9bda-38f45e3bd17d",
   "metadata": {},
   "source": [
    "#### Improve th Model\n",
    "\n",
    "Due to it's diverse data nature, this model is hard to improve.  It's better to use `standard scaler`,  convert each feature to it's standard score.  for each feature X replace with \n",
    "\n",
    "$$\n",
    "Z =\\frac{ X- \\hat{X}}{\\sigma{x}}\n",
    "$$"
   ]
  },
  {
   "cell_type": "code",
   "execution_count": 4,
   "id": "0bf199ba-4668-445a-a210-1392ebdf4897",
   "metadata": {},
   "outputs": [],
   "source": [
    "# Train Model\n",
    "import copy\n",
    "import numpy as np\n",
    "import torch\n",
    "import tqdm\n",
    "from sklearn.model_selection import train_test_split\n",
    "from sklearn.preprocessing import StandardScaler\n",
    "\n",
    "# split data to tran and test\n",
    "X_train_raw, X_test_raw, y_train, y_test = train_test_split(X, y, train_size=0.7, shuffle=True)\n",
    "\n",
    "# data standardizatiion\n",
    "scaler = StandardScaler()\n",
    "scaler.fit(X_train_raw)\n",
    "X_train = scaler.transform(X_train_raw)\n",
    "X_test = scaler.transform(X_test_raw)\n",
    "\n",
    "# convert splits to tensors\n",
    "X_train = torch.tensor(X_train, dtype=torch.float32)\n",
    "y_train = torch.tensor(y_train, dtype=torch.float32).reshape(-1,1)\n",
    "X_test = torch.tensor(X_test, dtype=torch.float32)\n",
    "y_test = torch.tensor(y_test, dtype=torch.float32).reshape(-1,1)\n",
    "\n",
    "# Training params\n",
    "n_epochs = 15\n",
    "batch_size = 10\n",
    "batch_start = torch.arange(0, len(X_train), batch_size)\n",
    "\n",
    "# CPU paralleization\n",
    "import multiprocessing\n",
    "number_of_threats = multiprocessing.cpu_count()\n",
    "MKL_NUM_THREADS = number_of_threats\n",
    "torch.set_num_threads(number_of_threats) \n",
    "\n",
    "# Hold best model\n",
    "best_mse = np.inf \n",
    "best_weights = None\n",
    "history = []"
   ]
  },
  {
   "cell_type": "code",
   "execution_count": 5,
   "id": "902c66b5-46c5-4c9b-a6d7-9733922f3325",
   "metadata": {},
   "outputs": [],
   "source": [
    "# Loss Function\n",
    "import torch.optim as optim\n",
    "\n",
    "loss_fn = nn.MSELoss() # mean square error\n",
    "optimizer = optim.Adam(model.parameters(), lr=0.0001)"
   ]
  },
  {
   "cell_type": "code",
   "execution_count": 6,
   "id": "f9c5fc9d-e435-4021-8eed-5ade0e004b45",
   "metadata": {},
   "outputs": [
    {
     "name": "stderr",
     "output_type": "stream",
     "text": [
      "Epoch 0: 100%|██████████████████████████████| 1445/1445 [00:13<00:00, 104.67batch/s, mse=1.72]\n",
      "Epoch 1: 100%|██████████████████████████████| 1445/1445 [00:13<00:00, 107.13batch/s, mse=1.39]\n",
      "Epoch 2: 100%|██████████████████████████████| 1445/1445 [00:13<00:00, 106.00batch/s, mse=1.25]\n",
      "Epoch 12: 100%|█████████████████████████████| 1445/1445 [00:15<00:00, 90.99batch/s, mse=0.818]\n",
      "Epoch 13:  73%|████████████████████▌       | 1060/1445 [00:10<00:02, 134.44batch/s, mse=0.238]IOPub message rate exceeded.\n",
      "The Jupyter server will temporarily stop sending output\n",
      "to the client in order to avoid crashing it.\n",
      "To change this limit, set the config variable\n",
      "`--ServerApp.iopub_msg_rate_limit`.\n",
      "\n",
      "Current values:\n",
      "ServerApp.iopub_msg_rate_limit=1000.0 (msgs/sec)\n",
      "ServerApp.rate_limit_window=3.0 (secs)\n",
      "\n"
     ]
    }
   ],
   "source": [
    "# Training Loop\n",
    "for epoch in range(n_epochs):\n",
    "    model.train()\n",
    "    with tqdm.tqdm(batch_start, unit=\"batch\", mininterval=0, disable=False) as bar:\n",
    "        bar.set_description(f\"Epoch {epoch}\")\n",
    "        for start in bar:\n",
    "            # Take a batch\n",
    "            X_batch = X_train[start:start+batch_size]\n",
    "            y_batch = y_train[start:start+batch_size]\n",
    "            # forward pass\n",
    "            y_pred = model(X_batch)\n",
    "            loss = loss_fn(y_pred, y_batch)\n",
    "            # backward pass\n",
    "            optimizer.zero_grad()\n",
    "            loss.backward()\n",
    "            # update weights\n",
    "            optimizer.step()\n",
    "            # print progress\n",
    "            bar.set_postfix(mse=float(loss))\n",
    "    # Evaluate accuracy at end of each epoch\n",
    "    model.eval()\n",
    "    y_pred = model(X_test)\n",
    "    mse = loss_fn(y_pred, y_test)\n",
    "    mse = float(mse)\n",
    "    history.append(mse)\n",
    "    if mse < best_mse:\n",
    "        best_mse = mse\n",
    "        best_weights = copy.deepcopy(model.state_dict())\n",
    "\n",
    "# restore model and return best accuracy\n",
    "model.load_state_dict(best_weights)"
   ]
  },
  {
   "cell_type": "code",
   "execution_count": null,
   "id": "2c3deda1-405b-4d40-b37e-986a0101cff4",
   "metadata": {},
   "outputs": [],
   "source": []
  },
  {
   "cell_type": "code",
   "execution_count": 9,
   "id": "3a26ae56-8e00-4b21-9b34-cb8486c003a1",
   "metadata": {},
   "outputs": [
    {
     "name": "stdout",
     "output_type": "stream",
     "text": [
      "MSE: 0.40\n",
      "RMSE: 0.63\n"
     ]
    },
    {
     "data": {
      "image/png": "[encoded data removed]",
      "text/plain": [
       "<Figure size 640x480 with 1 Axes>"
      ]
     },
     "metadata": {},
     "output_type": "display_data"
    }
   ],
   "source": [
    "import matplotlib.pyplot as plt\n",
    "\n",
    "print(\"MSE: %.2f\" % best_mse)\n",
    "print(\"RMSE: %.2f\" % np.sqrt(best_mse))\n",
    "plt.plot(history)\n",
    "plt.show()"
   ]
  },
  {
   "cell_type": "code",
   "execution_count": 11,
   "id": "dd3cb4c7-9739-4756-88d9-0eba47c02ec2",
   "metadata": {},
   "outputs": [
    {
     "name": "stdout",
     "output_type": "stream",
     "text": [
      "[ 1.98050000e+00  1.60000000e+01  3.97730139e+00  1.08448928e+00\n",
      "  1.83700000e+03  2.31651955e+00  3.86600000e+01 -1.21340000e+02] -> [1.0342785] (expected [0.929])\n",
      "[ 5.93970000e+00  2.60000000e+01  6.95714286e+00  9.88571429e-01\n",
      "  1.08800000e+03  3.10857143e+00  3.38200000e+01 -1.17870000e+02] -> [2.6549773] (expected [2.494])\n",
      "[ 3.15990000e+00  9.00000000e+00  5.21236133e+00  9.84152139e-01\n",
      "  1.86600000e+03  2.95721078e+00  3.63300000e+01 -1.19240000e+02] -> [1.0383055] (expected [0.95])\n",
      "[   7.508        52.            7.99431818    1.03693182  878.\n",
      "    2.49431818   37.81       -122.23      ] -> [4.1137443] (expected [3.487])\n",
      "[ 4.83160000e+00  3.30000000e+01  5.61706349e+00  1.01190476e+00\n",
      "  1.34000000e+03  2.65873016e+00  3.42600000e+01 -1.18500000e+02] -> [2.6397135] (expected [2.373])\n"
     ]
    }
   ],
   "source": [
    "model.eval()\n",
    "with torch.no_grad():\n",
    "    for i in range(5):\n",
    "        X_sample = X_test_raw[i: i+1]\n",
    "        X_sample = scaler.transform(X_sample)\n",
    "        X_sample = torch.tensor(X_sample, dtype=torch.float32)\n",
    "        y_pred = model(X_sample)\n",
    "        print(f\"{X_test_raw[i]} -> {y_pred[0].numpy()} (expected {y_test[i].numpy()})\")"
   ]
  },
  {
   "cell_type": "code",
   "execution_count": null,
   "id": "4ca01d7c-6a8e-4f20-bbd7-9d89d4adba0c",
   "metadata": {},
   "outputs": [],
   "source": []
  }
 ],
 "metadata": {
  "kernelspec": {
   "display_name": "Python 3 (ipykernel)",
   "language": "python",
   "name": "python3"
  },
  "language_info": {
   "codemirror_mode": {
    "name": "ipython",
    "version": 3
   },
   "file_extension": ".py",
   "mimetype": "text/x-python",
   "name": "python",
   "nbconvert_exporter": "python",
   "pygments_lexer": "ipython3",
   "version": "3.11.2"
  }
 },
 "nbformat": 4,
 "nbformat_minor": 5
}
