{
 "cells": [
  {
   "cell_type": "markdown",
   "id": "9221a4c9-7f72-41ff-8868-478b264117ee",
   "metadata": {},
   "source": [
    "# Build a Regression Model - PyTorch\n",
    "\n",
    "| [Story](https://www.pivotaltracker.com/story/show/188279486) | [Source](https://machinelearningmastery.com/building-a-regression-model-in-pytorch/) | [Dataset](https://scikit-learn.org/stable/datasets/real_world.html#california-housing-dataset) |\n"
   ]
  },
  {
   "cell_type": "code",
   "execution_count": 1,
   "id": "acc8f0e0-67e7-4d06-90c1-fe8717cb9137",
   "metadata": {},
   "outputs": [],
   "source": [
    "import copy\n",
    "import numpy as np\n",
    "import torch.nn as nn\n",
    "import torch.optim as optim\n",
    "import tqdm"
   ]
  },
  {
   "cell_type": "markdown",
   "id": "5e9eb2c4-6012-4ab3-949a-b7f0a2d8d386",
   "metadata": {},
   "source": [
    "#### Load Data"
   ]
  },
  {
   "cell_type": "code",
   "execution_count": 2,
   "id": "3ba33ebb-2c2a-40df-b3c7-14a9541c8a94",
   "metadata": {},
   "outputs": [
    {
     "name": "stdout",
     "output_type": "stream",
     "text": [
      "['MedInc', 'HouseAge', 'AveRooms', 'AveBedrms', 'Population', 'AveOccup', 'Latitude', 'Longitude']\n"
     ]
    }
   ],
   "source": [
    "from sklearn.datasets import fetch_california_housing\n",
    "\n",
    "data = fetch_california_housing()\n",
    "print(data.feature_names)"
   ]
  },
  {
   "cell_type": "code",
   "execution_count": 4,
   "id": "0f838e7e-f402-4983-b205-763e049db16b",
   "metadata": {},
   "outputs": [],
   "source": [
    "X, y = data.data, data.target"
   ]
  },
  {
   "cell_type": "code",
   "execution_count": 6,
   "id": "f767e70f-b7b9-405f-bb1d-9c81f447c1ec",
   "metadata": {},
   "outputs": [
    {
     "name": "stdout",
     "output_type": "stream",
     "text": [
      "[4.526 3.585 3.521 ... 0.923 0.847 0.894]\n"
     ]
    }
   ],
   "source": [
    "print(y)"
   ]
  },
  {
   "cell_type": "markdown",
   "id": "7ea92e80-bd73-4153-af54-ebf8864a9be6",
   "metadata": {},
   "source": [
    "#### Build Model"
   ]
  },
  {
   "cell_type": "code",
   "execution_count": null,
   "id": "8a311504-9f2c-4cb0-b52f-1a7b2b82bf0c",
   "metadata": {},
   "outputs": [],
   "source": []
  },
  {
   "cell_type": "code",
   "execution_count": null,
   "id": "0657afb0-9685-4a01-bc00-dcad33a80a1a",
   "metadata": {},
   "outputs": [],
   "source": []
  }
 ],
 "metadata": {
  "kernelspec": {
   "display_name": "Python 3 (ipykernel)",
   "language": "python",
   "name": "python3"
  },
  "language_info": {
   "codemirror_mode": {
    "name": "ipython",
    "version": 3
   },
   "file_extension": ".py",
   "mimetype": "text/x-python",
   "name": "python",
   "nbconvert_exporter": "python",
   "pygments_lexer": "ipython3",
   "version": "3.11.2"
  }
 },
 "nbformat": 4,
 "nbformat_minor": 5
}
