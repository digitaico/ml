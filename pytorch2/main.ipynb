{
 "cells": [
  {
   "cell_type": "markdown",
   "id": "a405c086-870e-456c-9301-416173ae654c",
   "metadata": {},
   "source": [
    "# PyTorch HandsON\n",
    "\n",
    "\n",
    "\n",
    "| Story | Souce | Dataset | Description |\n",
    "|-----|-----|------|------|\n",
    "|[Story](https://www.pivotaltracker.com/story/show/188286656) | [Source](https://www.dataquest.io/blog/pytorch-for-beginners/) | |HandsOn PyTorch: Concepts, Foundations. Image Classification / DL Hello World |\n",
    "\n"
   ]
  },
  {
   "cell_type": "markdown",
   "id": "a1feb79e-c428-4d86-a770-2e342263e43b",
   "metadata": {},
   "source": [
    "#### Tensors"
   ]
  },
  {
   "cell_type": "markdown",
   "id": "2bba9015-8ec8-425e-b300-317efff10cde",
   "metadata": {},
   "source": [
    "#### *Basics*"
   ]
  },
  {
   "cell_type": "code",
   "execution_count": null,
   "id": "34aeb808-e06d-4842-bce7-4b53efdf0745",
   "metadata": {},
   "outputs": [],
   "source": [
    "# Create a tensor\n",
    "import torch\n",
    "import numpy as np"
   ]
  },
  {
   "cell_type": "code",
   "execution_count": null,
   "id": "87e5ed2a-dfae-4d3b-95be-5414cacf8e6e",
   "metadata": {},
   "outputs": [],
   "source": [
    "ndarray = np.array([[5,6,7], [9,9,0]])\n",
    "t = torch.from_numpy(ndarray)\n",
    "print(t)"
   ]
  },
  {
   "cell_type": "code",
   "execution_count": null,
   "id": "46b225c8-38af-4bea-97a4-24ceafa8bbc3",
   "metadata": {},
   "outputs": [],
   "source": [
    "# Tensor attributes\n",
    "print(t.shape)\n",
    "print(t.dtype)\n",
    "print(t.device)"
   ]
  },
  {
   "cell_type": "code",
   "execution_count": null,
   "id": "b8a2309f-af80-44b4-b005-be7112225be6",
   "metadata": {},
   "outputs": [],
   "source": [
    "# tensor from python list\n",
    "t = torch.tensor([4,5,6])\n",
    "print(t)"
   ]
  },
  {
   "cell_type": "code",
   "execution_count": null,
   "id": "0878aa1b-9d58-4a6c-bbbd-f5dee2deea4b",
   "metadata": {},
   "outputs": [],
   "source": [
    "# Multidimensional tensors\n",
    "ndarray = np.array([[0,1,2], [3,4,5], [6,7,8]])\n",
    "t = torch.from_numpy(ndarray)\n",
    "print(t)"
   ]
  },
  {
   "cell_type": "code",
   "execution_count": null,
   "id": "1bf21336-e219-4bdc-9c7f-4e987f927412",
   "metadata": {},
   "outputs": [],
   "source": [
    "# Create tensor from other tensor\n",
    "new_t = torch.rand_like(t, dtype=torch.float)\n",
    "print(new_t)"
   ]
  },
  {
   "cell_type": "code",
   "execution_count": null,
   "id": "3c240f9a-c1a9-45e8-a3be-5fa4a48a05e0",
   "metadata": {},
   "outputs": [],
   "source": [
    "# tensor defined by shape\n",
    "m_shape = (5,5)\n",
    "rand_t = torch.rand(m_shape)\n",
    "print(rand_t)\n",
    "print(rand_t[2:4,4])\n",
    "transposed0 = rand_t.T\n",
    "print(transposed0)"
   ]
  },
  {
   "cell_type": "markdown",
   "id": "301f9311-bc4c-430f-bdfe-c1465ee4fd85",
   "metadata": {},
   "source": [
    "#### *Operations*"
   ]
  },
  {
   "cell_type": "code",
   "execution_count": null,
   "id": "7dc5b50e-d31f-4e9f-be2b-463c1d6f0e26",
   "metadata": {},
   "outputs": [],
   "source": [
    "zeros_tensor = torch.zeros((3,5))\n",
    "print(zeros_tensor)"
   ]
  },
  {
   "cell_type": "code",
   "execution_count": null,
   "id": "1d1f8229-17a8-4adc-9acc-fd56a1e5e137",
   "metadata": {},
   "outputs": [],
   "source": [
    "# Indexing\n",
    "print(zeros_tensor[1])\n",
    "print(zeros_tensor[:,0])"
   ]
  },
  {
   "cell_type": "code",
   "execution_count": null,
   "id": "8388d3ea-5099-405b-afcc-0486d4da1cf7",
   "metadata": {},
   "outputs": [],
   "source": [
    "# Transposing\n",
    "transposed = zeros_tensor.T\n",
    "print(transposed)"
   ]
  },
  {
   "cell_type": "code",
   "execution_count": null,
   "id": "e93fd36a-4ba5-411e-8411-8a3c9a294594",
   "metadata": {},
   "outputs": [],
   "source": [
    "# Product of tensors\n",
    "ones_tensor = torch.ones(5,3)\n",
    "print(ones_tensor)\n",
    "product = torch.matmul(zeros_tensor, ones_tensor)\n",
    "print(product)"
   ]
  },
  {
   "cell_type": "markdown",
   "id": "0567c125-a536-4153-b397-c1be7791f056",
   "metadata": {},
   "source": [
    "#### Data Loading"
   ]
  },
  {
   "cell_type": "code",
   "execution_count": null,
   "id": "8135685e-b2e1-49f9-ba94-c0245be956b8",
   "metadata": {},
   "outputs": [],
   "source": [
    "from torchvision import datasets\n",
    "from torchvision.transforms import ToTensor\n",
    "import matplotlib.pyplot as plt"
   ]
  },
  {
   "cell_type": "code",
   "execution_count": null,
   "id": "8a28a275-fc04-4005-b30a-1e792b404346",
   "metadata": {},
   "outputs": [],
   "source": [
    "training_data = datasets.MNIST(root=\".\", train=True, download=True, transform=ToTensor())\n",
    "test_data = datasets.MNIST(root=\".\", train=False, download=True, transform=ToTensor())"
   ]
  },
  {
   "cell_type": "code",
   "execution_count": null,
   "id": "0283e60c-ca0d-49b6-ae4d-74021161537b",
   "metadata": {},
   "outputs": [],
   "source": [
    "training_data[0]"
   ]
  },
  {
   "cell_type": "code",
   "execution_count": null,
   "id": "65eea721-bbaf-4ac7-a62d-2a9902497a3c",
   "metadata": {},
   "outputs": [],
   "source": [
    "# Visualize images\n",
    "figure = plt.figure(figsize=(8,8))\n",
    "cols, rows = 5,5\n",
    "\n",
    "for i in range(1, cols * rows + 1):\n",
    "    sample_idx = torch.randint(len(training_data), size=(1,)).item()\n",
    "    img, label = training_data[sample_idx]\n",
    "    figure.add_subplot(rows, cols, i)\n",
    "    plt.axis(\"off\")\n",
    "    plt.imshow(img.squeeze(), cmap=\"gray\")\n",
    "plt.show()"
   ]
  },
  {
   "cell_type": "code",
   "execution_count": null,
   "id": "58a9c778-8cc9-41ec-bf0e-28219bc4dfd2",
   "metadata": {},
   "outputs": [],
   "source": [
    "training_data.classes"
   ]
  },
  {
   "cell_type": "code",
   "execution_count": null,
   "id": "a65be4fd-d4b9-43e0-bb71-4c4c1a8abf25",
   "metadata": {},
   "outputs": [],
   "source": [
    "from torch.utils.data import DataLoader\n",
    "\n",
    "loaded_train = DataLoader(training_data, batch_size=64, shuffle=True)\n",
    "loaded_test = DataLoader(test_data, batch_size=64, shuffle=True)"
   ]
  },
  {
   "cell_type": "markdown",
   "id": "a427c9b4-bd3f-4cff-956c-cb57341fc2fc",
   "metadata": {},
   "source": [
    "#### Neural Network"
   ]
  },
  {
   "cell_type": "code",
   "execution_count": null,
   "id": "6bed8ee4-44c1-4701-982d-311abaeba84d",
   "metadata": {},
   "outputs": [],
   "source": [
    "from torch import nn\n",
    "\n",
    "class NeuralNetwork(nn.Module):\n",
    "    def __init__(self):\n",
    "        super(NeuralNetwork, self).__init__()\n",
    "        self.flatten = nn.Flatten()\n",
    "        self.linear_relu_stack = nn.Sequential(\n",
    "            nn.Linear(28*28, 512),\n",
    "            nn.ReLU(),\n",
    "            nn.Linear(512, 512),\n",
    "            nn.ReLU(),\n",
    "            nn.Linear(512,10),\n",
    "        )\n",
    "    def forward(self, x):\n",
    "        x = self.flatten(x)\n",
    "        logits = self.linear_relu_stack(x)\n",
    "        return logits"
   ]
  },
  {
   "cell_type": "code",
   "execution_count": null,
   "id": "381731f7-1347-41cc-b7c0-46fac8c49434",
   "metadata": {},
   "outputs": [],
   "source": [
    "model = NeuralNetwork()\n",
    "print(model)"
   ]
  },
  {
   "cell_type": "markdown",
   "id": "66932b85-6701-429a-b28d-9a094cd83638",
   "metadata": {},
   "source": [
    "#### *Loss Function*"
   ]
  },
  {
   "cell_type": "code",
   "execution_count": null,
   "id": "d4490eee-968c-41ee-b980-af2e912e7737",
   "metadata": {},
   "outputs": [],
   "source": [
    "loss_function = nn.CrossEntropyLoss()"
   ]
  },
  {
   "cell_type": "markdown",
   "id": "358b7888-1322-4b6f-a42c-0caffc62d6c6",
   "metadata": {},
   "source": [
    "#### *Optimizer*"
   ]
  },
  {
   "cell_type": "code",
   "execution_count": null,
   "id": "4fe991b8-61b7-4d17-860f-a7a106686c19",
   "metadata": {},
   "outputs": [],
   "source": [
    "optimizer = torch.optim.SGD(model.parameters(), lr=0.001)"
   ]
  },
  {
   "cell_type": "markdown",
   "id": "6d292e7b-cdf2-44e1-a365-afeaf948801b",
   "metadata": {},
   "source": [
    "#### *Train Function*"
   ]
  },
  {
   "cell_type": "code",
   "execution_count": null,
   "id": "12489850-088c-472c-94b3-fa57d90dc851",
   "metadata": {},
   "outputs": [],
   "source": [
    "def train(dataloader, model, loss_fn, optimizer):\n",
    "    size = len(dataloader.dataset)\n",
    "    for batch, (X, y) in enumerate(dataloader):\n",
    "        pred = model(X)\n",
    "        loss = loss_fn(pred, y)\n",
    "\n",
    "        optimizer.zero_grad()\n",
    "        loss.backward()\n",
    "        optimizer.step()\n",
    "\n",
    "        if batch:\n",
    "            loss, current = loss.item(), batch * len(X)\n",
    "            print(f\"loss: {loss:>7f} [{current:>5d}/{size:>5d}]\")"
   ]
  },
  {
   "cell_type": "markdown",
   "id": "91e72f47-fda8-414b-b68a-86bc898ce941",
   "metadata": {},
   "source": [
    "#### *Test Function*"
   ]
  },
  {
   "cell_type": "code",
   "execution_count": null,
   "id": "bf7524a1-fc04-4c60-9929-ebdbea9d3a2e",
   "metadata": {},
   "outputs": [],
   "source": [
    "def test(dataloader, model, loss_fn):\n",
    "    size = len(dataloader.dataset)\n",
    "    num_batches = len(dataloader)\n",
    "    test_loss, correct = 0, 0\n",
    "\n",
    "    with torch.no_grad():\n",
    "        for X, y in dataloader:\n",
    "            pred = model(X)\n",
    "            test_loss += loss_fn(pred, y).item()\n",
    "            correct += (pred.argmax(1) == y).type(torch.float).sum().item()\n",
    "\n",
    "    test_loss /= num_batches\n",
    "    correct /= size\n",
    "    print(f\"Test Error: \\n Accuracy: {(100*correct):>01f}%, Avg loss: {test_loss:>8f} \\n\")"
   ]
  },
  {
   "cell_type": "code",
   "execution_count": null,
   "id": "d080ec37-5c98-4644-aebe-f4f9be183451",
   "metadata": {},
   "outputs": [],
   "source": [
    "epochs = 5\n",
    "\n",
    "for t in range(epochs):\n",
    "    print(f\"Epoch {t+1}\\n----------------------------\")\n",
    "    train(loaded_train, model, loss_function, optimizer)\n",
    "    test(loaded_test, model, loss_function)\n",
    "print(\"Done!\")"
   ]
  },
  {
   "cell_type": "code",
   "execution_count": null,
   "id": "a998f934-0586-4374-a4fb-1fa75dacc34f",
   "metadata": {},
   "outputs": [],
   "source": [
    "torch.save(model, \"model.pth\")\n",
    "model = torch.load(\"model.pth\")"
   ]
  },
  {
   "cell_type": "code",
   "execution_count": null,
   "id": "acb84f56-cf1b-48b9-850d-2c915ab320e8",
   "metadata": {},
   "outputs": [],
   "source": []
  }
 ],
 "metadata": {
  "kernelspec": {
   "display_name": "Python 3 (ipykernel)",
   "language": "python",
   "name": "python3"
  },
  "language_info": {
   "codemirror_mode": {
    "name": "ipython",
    "version": 3
   },
   "file_extension": ".py",
   "mimetype": "text/x-python",
   "name": "python",
   "nbconvert_exporter": "python",
   "pygments_lexer": "ipython3",
   "version": "3.11.2"
  }
 },
 "nbformat": 4,
 "nbformat_minor": 5
}
