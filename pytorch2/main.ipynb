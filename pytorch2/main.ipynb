{
 "cells": [
  {
   "cell_type": "markdown",
   "id": "a405c086-870e-456c-9301-416173ae654c",
   "metadata": {},
   "source": [
    "# PyTorch HandsON\n",
    "\n",
    "\n",
    "\n",
    "| Story | Souce | Dataset | Description |\n",
    "|[Story](https://www.pivotaltracker.com/story/show/188286656) | [Source](https://www.dataquest.io/blog/pytorch-for-beginners/) | | HandsOn PyTorch: Concepts, Foundations. Image Classification / DL Hello World|\n",
    "\n"
   ]
  },
  {
   "cell_type": "code",
   "execution_count": null,
   "id": "34aeb808-e06d-4842-bce7-4b53efdf0745",
   "metadata": {},
   "outputs": [],
   "source": []
  }
 ],
 "metadata": {
  "kernelspec": {
   "display_name": "Python 3 (ipykernel)",
   "language": "python",
   "name": "python3"
  },
  "language_info": {
   "codemirror_mode": {
    "name": "ipython",
    "version": 3
   },
   "file_extension": ".py",
   "mimetype": "text/x-python",
   "name": "python",
   "nbconvert_exporter": "python",
   "pygments_lexer": "ipython3",
   "version": "3.11.2"
  }
 },
 "nbformat": 4,
 "nbformat_minor": 5
}
