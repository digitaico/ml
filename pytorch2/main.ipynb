{
 "cells": [
  {
   "cell_type": "markdown",
   "id": "a405c086-870e-456c-9301-416173ae654c",
   "metadata": {},
   "source": [
    "# PyTorch HandsON\n",
    "\n",
    "\n",
    "\n",
    "| Story | Souce | Dataset | Description |\n",
    "|[Story](https://www.pivotaltracker.com/story/show/188286656) | [Source](https://www.dataquest.io/blog/pytorch-for-beginners/) | | HandsOn PyTorch: Concepts, Foundations. Image Classification / DL Hello World|\n",
    "\n"
   ]
  },
  {
   "cell_type": "markdown",
   "id": "a1feb79e-c428-4d86-a770-2e342263e43b",
   "metadata": {},
   "source": [
    "#### Tensors"
   ]
  },
  {
   "cell_type": "markdown",
   "id": "2bba9015-8ec8-425e-b300-317efff10cde",
   "metadata": {},
   "source": [
    "#### *Basics*"
   ]
  },
  {
   "cell_type": "code",
   "execution_count": 1,
   "id": "34aeb808-e06d-4842-bce7-4b53efdf0745",
   "metadata": {},
   "outputs": [],
   "source": [
    "# Create a tensor\n",
    "import torch\n",
    "import numpy as np"
   ]
  },
  {
   "cell_type": "code",
   "execution_count": 2,
   "id": "87e5ed2a-dfae-4d3b-95be-5414cacf8e6e",
   "metadata": {},
   "outputs": [
    {
     "name": "stdout",
     "output_type": "stream",
     "text": [
      "tensor([5, 6, 7])\n"
     ]
    }
   ],
   "source": [
    "ndarray = np.array([5,6,7])\n",
    "t = torch.from_numpy(ndarray)\n",
    "print(t)"
   ]
  },
  {
   "cell_type": "code",
   "execution_count": 3,
   "id": "46b225c8-38af-4bea-97a4-24ceafa8bbc3",
   "metadata": {},
   "outputs": [
    {
     "name": "stdout",
     "output_type": "stream",
     "text": [
      "torch.Size([3])\n",
      "torch.int64\n",
      "cpu\n"
     ]
    }
   ],
   "source": [
    "# Tensor attributes\n",
    "print(t.shape)\n",
    "print(t.dtype)\n",
    "print(t.device)"
   ]
  },
  {
   "cell_type": "code",
   "execution_count": 4,
   "id": "b8a2309f-af80-44b4-b005-be7112225be6",
   "metadata": {},
   "outputs": [
    {
     "name": "stdout",
     "output_type": "stream",
     "text": [
      "tensor([4, 5, 6])\n"
     ]
    }
   ],
   "source": [
    "# tensor from python list\n",
    "t = torch.tensor([4,5,6])\n",
    "print(t)"
   ]
  },
  {
   "cell_type": "code",
   "execution_count": 6,
   "id": "0878aa1b-9d58-4a6c-bbbd-f5dee2deea4b",
   "metadata": {},
   "outputs": [
    {
     "name": "stdout",
     "output_type": "stream",
     "text": [
      "tensor([[0, 1, 2],\n",
      "        [3, 4, 5],\n",
      "        [6, 7, 8]])\n"
     ]
    }
   ],
   "source": [
    "# Multidimensional tensors\n",
    "ndarray = np.array([[0,1,2], [3,4,5], [6,7,8]])\n",
    "t = torch.from_numpy(ndarray)\n",
    "print(t)"
   ]
  },
  {
   "cell_type": "code",
   "execution_count": 8,
   "id": "1bf21336-e219-4bdc-9c7f-4e987f927412",
   "metadata": {},
   "outputs": [
    {
     "name": "stdout",
     "output_type": "stream",
     "text": [
      "tensor([[0.5918, 0.7959, 0.9727],\n",
      "        [0.3018, 0.4787, 0.3407],\n",
      "        [0.7760, 0.7772, 0.9809]])\n"
     ]
    }
   ],
   "source": [
    "# Create tensor from other tensor\n",
    "new_t = torch.rand_like(t, dtype=torch.float)\n",
    "print(new_t)"
   ]
  },
  {
   "cell_type": "code",
   "execution_count": 9,
   "id": "3c240f9a-c1a9-45e8-a3be-5fa4a48a05e0",
   "metadata": {},
   "outputs": [
    {
     "name": "stdout",
     "output_type": "stream",
     "text": [
      "tensor([[0.6399, 0.6116, 0.6234, 0.3105, 0.9939],\n",
      "        [0.3810, 0.1028, 0.8208, 0.6227, 0.9113],\n",
      "        [0.7369, 0.4527, 0.3370, 0.4176, 0.7238],\n",
      "        [0.5750, 0.8508, 0.0394, 0.6655, 0.5500],\n",
      "        [0.8593, 0.4417, 0.1527, 0.9768, 0.5052]])\n"
     ]
    }
   ],
   "source": [
    "# tensor defined by shape\n",
    "m_shape = (5,5)\n",
    "rand_t = torch.rand(m_shape)\n",
    "print(rand_t)"
   ]
  },
  {
   "cell_type": "markdown",
   "id": "301f9311-bc4c-430f-bdfe-c1465ee4fd85",
   "metadata": {},
   "source": [
    "#### *Operations*"
   ]
  },
  {
   "cell_type": "code",
   "execution_count": 11,
   "id": "7dc5b50e-d31f-4e9f-be2b-463c1d6f0e26",
   "metadata": {},
   "outputs": [
    {
     "name": "stdout",
     "output_type": "stream",
     "text": [
      "tensor([[0., 0., 0., 0., 0.],\n",
      "        [0., 0., 0., 0., 0.],\n",
      "        [0., 0., 0., 0., 0.]])\n"
     ]
    }
   ],
   "source": [
    "zeros_tensor = torch.zeros((3,5))\n",
    "print(zeros_tensor)"
   ]
  },
  {
   "cell_type": "code",
   "execution_count": null,
   "id": "1d1f8229-17a8-4adc-9acc-fd56a1e5e137",
   "metadata": {},
   "outputs": [],
   "source": [
    "# Indexing\n"
   ]
  }
 ],
 "metadata": {
  "kernelspec": {
   "display_name": "Python 3 (ipykernel)",
   "language": "python",
   "name": "python3"
  },
  "language_info": {
   "codemirror_mode": {
    "name": "ipython",
    "version": 3
   },
   "file_extension": ".py",
   "mimetype": "text/x-python",
   "name": "python",
   "nbconvert_exporter": "python",
   "pygments_lexer": "ipython3",
   "version": "3.11.2"
  }
 },
 "nbformat": 4,
 "nbformat_minor": 5
}
