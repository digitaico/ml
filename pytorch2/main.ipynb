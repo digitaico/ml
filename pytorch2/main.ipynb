{
 "cells": [
  {
   "cell_type": "markdown",
   "id": "a405c086-870e-456c-9301-416173ae654c",
   "metadata": {},
   "source": [
    "# PyTorch HandsON\n",
    "\n",
    "\n",
    "\n",
    "| Story | Souce | Dataset | Description |\n",
    "|-----|-----|------|------|\n",
    "|[Story](https://www.pivotaltracker.com/story/show/188286656) | [Source](https://www.dataquest.io/blog/pytorch-for-beginners/) | |HandsOn PyTorch: Concepts, Foundations. Image Classification / DL Hello World |\n",
    "\n"
   ]
  },
  {
   "cell_type": "markdown",
   "id": "a1feb79e-c428-4d86-a770-2e342263e43b",
   "metadata": {},
   "source": [
    "#### Tensors"
   ]
  },
  {
   "cell_type": "markdown",
   "id": "2bba9015-8ec8-425e-b300-317efff10cde",
   "metadata": {},
   "source": [
    "#### *Basics*"
   ]
  },
  {
   "cell_type": "code",
   "execution_count": 1,
   "id": "34aeb808-e06d-4842-bce7-4b53efdf0745",
   "metadata": {},
   "outputs": [],
   "source": [
    "# Create a tensor\n",
    "import torch\n",
    "import numpy as np"
   ]
  },
  {
   "cell_type": "code",
   "execution_count": 4,
   "id": "87e5ed2a-dfae-4d3b-95be-5414cacf8e6e",
   "metadata": {},
   "outputs": [
    {
     "name": "stdout",
     "output_type": "stream",
     "text": [
      "tensor([[5, 6, 7],\n",
      "        [9, 9, 0]])\n"
     ]
    }
   ],
   "source": [
    "ndarray = np.array([[5,6,7], [9,9,0]])\n",
    "t = torch.from_numpy(ndarray)\n",
    "print(t)"
   ]
  },
  {
   "cell_type": "code",
   "execution_count": 5,
   "id": "46b225c8-38af-4bea-97a4-24ceafa8bbc3",
   "metadata": {},
   "outputs": [
    {
     "name": "stdout",
     "output_type": "stream",
     "text": [
      "torch.Size([2, 3])\n",
      "torch.int64\n",
      "cpu\n"
     ]
    }
   ],
   "source": [
    "# Tensor attributes\n",
    "print(t.shape)\n",
    "print(t.dtype)\n",
    "print(t.device)"
   ]
  },
  {
   "cell_type": "code",
   "execution_count": 6,
   "id": "b8a2309f-af80-44b4-b005-be7112225be6",
   "metadata": {},
   "outputs": [
    {
     "name": "stdout",
     "output_type": "stream",
     "text": [
      "tensor([4, 5, 6])\n"
     ]
    }
   ],
   "source": [
    "# tensor from python list\n",
    "t = torch.tensor([4,5,6])\n",
    "print(t)"
   ]
  },
  {
   "cell_type": "code",
   "execution_count": 7,
   "id": "0878aa1b-9d58-4a6c-bbbd-f5dee2deea4b",
   "metadata": {},
   "outputs": [
    {
     "name": "stdout",
     "output_type": "stream",
     "text": [
      "tensor([[0, 1, 2],\n",
      "        [3, 4, 5],\n",
      "        [6, 7, 8]])\n"
     ]
    }
   ],
   "source": [
    "# Multidimensional tensors\n",
    "ndarray = np.array([[0,1,2], [3,4,5], [6,7,8]])\n",
    "t = torch.from_numpy(ndarray)\n",
    "print(t)"
   ]
  },
  {
   "cell_type": "code",
   "execution_count": 8,
   "id": "1bf21336-e219-4bdc-9c7f-4e987f927412",
   "metadata": {},
   "outputs": [
    {
     "name": "stdout",
     "output_type": "stream",
     "text": [
      "tensor([[0.9653, 0.0934, 0.2263],\n",
      "        [0.6512, 0.8927, 0.2691],\n",
      "        [0.3262, 0.8734, 0.8469]])\n"
     ]
    }
   ],
   "source": [
    "# Create tensor from other tensor\n",
    "new_t = torch.rand_like(t, dtype=torch.float)\n",
    "print(new_t)"
   ]
  },
  {
   "cell_type": "code",
   "execution_count": 27,
   "id": "3c240f9a-c1a9-45e8-a3be-5fa4a48a05e0",
   "metadata": {},
   "outputs": [
    {
     "name": "stdout",
     "output_type": "stream",
     "text": [
      "tensor([[0.5363, 0.0052, 0.2228, 0.5017, 0.3272],\n",
      "        [0.9200, 0.2067, 0.2469, 0.2594, 0.6021],\n",
      "        [0.5544, 0.9606, 0.5000, 0.2944, 0.3701],\n",
      "        [0.3453, 0.1347, 0.5223, 0.2454, 0.6699],\n",
      "        [0.0472, 0.2297, 0.2207, 0.7118, 0.7677]])\n",
      "tensor([0.3701, 0.6699])\n",
      "tensor([[0.5363, 0.9200, 0.5544, 0.3453, 0.0472],\n",
      "        [0.0052, 0.2067, 0.9606, 0.1347, 0.2297],\n",
      "        [0.2228, 0.2469, 0.5000, 0.5223, 0.2207],\n",
      "        [0.5017, 0.2594, 0.2944, 0.2454, 0.7118],\n",
      "        [0.3272, 0.6021, 0.3701, 0.6699, 0.7677]])\n"
     ]
    }
   ],
   "source": [
    "# tensor defined by shape\n",
    "m_shape = (5,5)\n",
    "rand_t = torch.rand(m_shape)\n",
    "print(rand_t)\n",
    "print(rand_t[2:4,4])\n",
    "transposed0 = rand_t.T\n",
    "print(transposed0)"
   ]
  },
  {
   "cell_type": "markdown",
   "id": "301f9311-bc4c-430f-bdfe-c1465ee4fd85",
   "metadata": {},
   "source": [
    "#### *Operations*"
   ]
  },
  {
   "cell_type": "code",
   "execution_count": 10,
   "id": "7dc5b50e-d31f-4e9f-be2b-463c1d6f0e26",
   "metadata": {},
   "outputs": [
    {
     "name": "stdout",
     "output_type": "stream",
     "text": [
      "tensor([[0., 0., 0., 0., 0.],\n",
      "        [0., 0., 0., 0., 0.],\n",
      "        [0., 0., 0., 0., 0.]])\n"
     ]
    }
   ],
   "source": [
    "zeros_tensor = torch.zeros((3,5))\n",
    "print(zeros_tensor)"
   ]
  },
  {
   "cell_type": "code",
   "execution_count": 12,
   "id": "1d1f8229-17a8-4adc-9acc-fd56a1e5e137",
   "metadata": {},
   "outputs": [
    {
     "name": "stdout",
     "output_type": "stream",
     "text": [
      "tensor([0., 0., 0., 0., 0.])\n",
      "tensor([0., 0., 0.])\n"
     ]
    }
   ],
   "source": [
    "# Indexing\n",
    "print(zeros_tensor[1])\n",
    "print(zeros_tensor[:,0])"
   ]
  },
  {
   "cell_type": "code",
   "execution_count": 26,
   "id": "8388d3ea-5099-405b-afcc-0486d4da1cf7",
   "metadata": {},
   "outputs": [
    {
     "name": "stdout",
     "output_type": "stream",
     "text": [
      "tensor([[0., 0., 0.],\n",
      "        [0., 0., 0.],\n",
      "        [0., 0., 0.],\n",
      "        [0., 0., 0.],\n",
      "        [0., 0., 0.]])\n"
     ]
    }
   ],
   "source": [
    "# Transposing\n",
    "transposed = zeros_tensor.T\n",
    "print(transposed)"
   ]
  },
  {
   "cell_type": "code",
   "execution_count": 29,
   "id": "e93fd36a-4ba5-411e-8411-8a3c9a294594",
   "metadata": {},
   "outputs": [
    {
     "name": "stdout",
     "output_type": "stream",
     "text": [
      "tensor([[1., 1., 1.],\n",
      "        [1., 1., 1.],\n",
      "        [1., 1., 1.],\n",
      "        [1., 1., 1.],\n",
      "        [1., 1., 1.]])\n",
      "tensor([[0., 0., 0.],\n",
      "        [0., 0., 0.],\n",
      "        [0., 0., 0.]])\n"
     ]
    }
   ],
   "source": [
    "# Product of tensors\n",
    "ones_tensor = torch.ones(5,3)\n",
    "print(ones_tensor)\n",
    "product = torch.matmul(zeros_tensor, ones_tensor)\n",
    "print(product)"
   ]
  },
  {
   "cell_type": "markdown",
   "id": "0567c125-a536-4153-b397-c1be7791f056",
   "metadata": {},
   "source": [
    "#### Data Loading"
   ]
  },
  {
   "cell_type": "code",
   "execution_count": 36,
   "id": "8135685e-b2e1-49f9-ba94-c0245be956b8",
   "metadata": {},
   "outputs": [],
   "source": [
    "from torchvision import datasets\n",
    "from torchvision.transforms import ToTensor\n",
    "import matplotlib.pyplot as plt"
   ]
  },
  {
   "cell_type": "code",
   "execution_count": 38,
   "id": "8a28a275-fc04-4005-b30a-1e792b404346",
   "metadata": {},
   "outputs": [
    {
     "name": "stdout",
     "output_type": "stream",
     "text": [
      "Downloading http://yann.lecun.com/exdb/mnist/train-images-idx3-ubyte.gz\n",
      "Failed to download (trying next):\n",
      "HTTP Error 403: Forbidden\n",
      "\n",
      "Downloading https://ossci-datasets.s3.amazonaws.com/mnist/train-images-idx3-ubyte.gz\n",
      "Downloading https://ossci-datasets.s3.amazonaws.com/mnist/train-images-idx3-ubyte.gz to ./MNIST/raw/train-images-idx3-ubyte.gz\n"
     ]
    },
    {
     "name": "stderr",
     "output_type": "stream",
     "text": [
      "100%|███████████████████████████████████████████| 9912422/9912422 [00:03<00:00, 2622189.00it/s]\n"
     ]
    },
    {
     "name": "stdout",
     "output_type": "stream",
     "text": [
      "Extracting ./MNIST/raw/train-images-idx3-ubyte.gz to ./MNIST/raw\n",
      "\n",
      "Downloading http://yann.lecun.com/exdb/mnist/train-labels-idx1-ubyte.gz\n",
      "Failed to download (trying next):\n",
      "HTTP Error 403: Forbidden\n",
      "\n",
      "Downloading https://ossci-datasets.s3.amazonaws.com/mnist/train-labels-idx1-ubyte.gz\n",
      "Downloading https://ossci-datasets.s3.amazonaws.com/mnist/train-labels-idx1-ubyte.gz to ./MNIST/raw/train-labels-idx1-ubyte.gz\n"
     ]
    },
    {
     "name": "stderr",
     "output_type": "stream",
     "text": [
      "100%|████████████████████████████████████████████████| 28881/28881 [00:00<00:00, 401739.45it/s]\n"
     ]
    },
    {
     "name": "stdout",
     "output_type": "stream",
     "text": [
      "Extracting ./MNIST/raw/train-labels-idx1-ubyte.gz to ./MNIST/raw\n",
      "\n",
      "Downloading http://yann.lecun.com/exdb/mnist/t10k-images-idx3-ubyte.gz\n",
      "Failed to download (trying next):\n",
      "HTTP Error 403: Forbidden\n",
      "\n",
      "Downloading https://ossci-datasets.s3.amazonaws.com/mnist/t10k-images-idx3-ubyte.gz\n",
      "Downloading https://ossci-datasets.s3.amazonaws.com/mnist/t10k-images-idx3-ubyte.gz to ./MNIST/raw/t10k-images-idx3-ubyte.gz\n"
     ]
    },
    {
     "name": "stderr",
     "output_type": "stream",
     "text": [
      "100%|███████████████████████████████████████████| 1648877/1648877 [00:00<00:00, 3546139.97it/s]\n"
     ]
    },
    {
     "name": "stdout",
     "output_type": "stream",
     "text": [
      "Extracting ./MNIST/raw/t10k-images-idx3-ubyte.gz to ./MNIST/raw\n",
      "\n",
      "Downloading http://yann.lecun.com/exdb/mnist/t10k-labels-idx1-ubyte.gz\n",
      "Failed to download (trying next):\n",
      "HTTP Error 403: Forbidden\n",
      "\n",
      "Downloading https://ossci-datasets.s3.amazonaws.com/mnist/t10k-labels-idx1-ubyte.gz\n",
      "Downloading https://ossci-datasets.s3.amazonaws.com/mnist/t10k-labels-idx1-ubyte.gz to ./MNIST/raw/t10k-labels-idx1-ubyte.gz\n"
     ]
    },
    {
     "name": "stderr",
     "output_type": "stream",
     "text": [
      "100%|██████████████████████████████████████████████████| 4542/4542 [00:00<00:00, 986869.50it/s]"
     ]
    },
    {
     "name": "stdout",
     "output_type": "stream",
     "text": [
      "Extracting ./MNIST/raw/t10k-labels-idx1-ubyte.gz to ./MNIST/raw\n",
      "\n"
     ]
    },
    {
     "name": "stderr",
     "output_type": "stream",
     "text": [
      "\n"
     ]
    }
   ],
   "source": [
    "training_data = datasets.MNIST(root=\".\", train=True, download=True, transform=ToTensor())\n",
    "test_data = datasets.MNIST(root=\".\", train=False, download=True, transform=ToTensor())"
   ]
  },
  {
   "cell_type": "code",
   "execution_count": null,
   "id": "0283e60c-ca0d-49b6-ae4d-74021161537b",
   "metadata": {},
   "outputs": [],
   "source": []
  }
 ],
 "metadata": {
  "kernelspec": {
   "display_name": "Python 3 (ipykernel)",
   "language": "python",
   "name": "python3"
  },
  "language_info": {
   "codemirror_mode": {
    "name": "ipython",
    "version": 3
   },
   "file_extension": ".py",
   "mimetype": "text/x-python",
   "name": "python",
   "nbconvert_exporter": "python",
   "pygments_lexer": "ipython3",
   "version": "3.11.2"
  }
 },
 "nbformat": 4,
 "nbformat_minor": 5
}
