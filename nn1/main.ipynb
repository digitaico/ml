{
 "cells": [
  {
   "cell_type": "markdown",
   "id": "98f50a03-5a93-4e0a-8104-7b6527688eae",
   "metadata": {},
   "source": [
    "# Step by Step Neural Network with PyTorch\n",
    "\n",
    "### [Source](https://machinelearningmastery.com/develop-your-first-neural-network-with-pytorch-step-by-step/)\n",
    "\n",
    "### [Story](https://www.pivotaltracker.com/story/show/188278094)"
   ]
  },
  {
   "cell_type": "code",
   "execution_count": null,
   "id": "bec0e40c-482c-40e7-9f3e-7113c92ca47e",
   "metadata": {},
   "outputs": [],
   "source": [
    "inport torch\n"
   ]
  },
  {
   "cell_type": "code",
   "execution_count": null,
   "id": "53571239-798a-4b77-aa06-3990d4ae282c",
   "metadata": {},
   "outputs": [],
   "source": [
    "# Device\n"
   ]
  },
  {
   "cell_type": "code",
   "execution_count": null,
   "id": "5654637c-0f68-4c52-bf5e-4d003a17911b",
   "metadata": {},
   "outputs": [],
   "source": [
    "# "
   ]
  }
 ],
 "metadata": {
  "kernelspec": {
   "display_name": "Python 3 (ipykernel)",
   "language": "python",
   "name": "python3"
  },
  "language_info": {
   "codemirror_mode": {
    "name": "ipython",
    "version": 3
   },
   "file_extension": ".py",
   "mimetype": "text/x-python",
   "name": "python",
   "nbconvert_exporter": "python",
   "pygments_lexer": "ipython3",
   "version": "3.11.2"
  }
 },
 "nbformat": 4,
 "nbformat_minor": 5
}
