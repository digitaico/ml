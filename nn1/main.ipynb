{
 "cells": [
  {
   "cell_type": "markdown",
   "id": "98f50a03-5a93-4e0a-8104-7b6527688eae",
   "metadata": {},
   "source": [
    "# Step by Step Neural Network with PyTorch\n",
    "\n",
    "### [Source](https://machinelearningmastery.com/develop-your-first-neural-network-with-pytorch-step-by-step/)\n",
    "\n",
    "### [Story](https://www.pivotaltracker.com/story/show/188278094)"
   ]
  },
  {
   "cell_type": "code",
   "execution_count": 1,
   "id": "bec0e40c-482c-40e7-9f3e-7113c92ca47e",
   "metadata": {},
   "outputs": [],
   "source": [
    "import numpy as np\n",
    "import torch\n",
    "import torch.nn as nn\n",
    "import torch.optim as optim"
   ]
  },
  {
   "cell_type": "markdown",
   "id": "fab9ed5e-c284-4d98-8e8d-a61ea9cb7e87",
   "metadata": {},
   "source": [
    "### Device"
   ]
  },
  {
   "cell_type": "code",
   "execution_count": 2,
   "id": "53571239-798a-4b77-aa06-3990d4ae282c",
   "metadata": {},
   "outputs": [
    {
     "name": "stdout",
     "output_type": "stream",
     "text": [
      "Operational device is CPU\n"
     ]
    }
   ],
   "source": [
    "# Device\n",
    "device = (\n",
    "    \"cuda\"\n",
    "    if torch.cuda.is_available()\n",
    "    else \"mps\"\n",
    "    if torch.backends.mps.is_available()\n",
    "    else \"cpu\"\n",
    ")\n",
    "\n",
    "print(f\"Operational device is {device.upper()}\")"
   ]
  },
  {
   "cell_type": "markdown",
   "id": "367b9578-9170-4528-bf46-99a47b5961b7",
   "metadata": {},
   "source": [
    "### Data Load and Transform"
   ]
  },
  {
   "cell_type": "code",
   "execution_count": 3,
   "id": "5654637c-0f68-4c52-bf5e-4d003a17911b",
   "metadata": {},
   "outputs": [],
   "source": [
    "#  Load Data: Pima Indians Diabetes dataset\n",
    "dataset = np.loadtxt('./data/pima-indians-diabetes.data.csv', delimiter=',')\n",
    "X = dataset[:,0:8]\n",
    "y = dataset[:,8]"
   ]
  },
  {
   "cell_type": "code",
   "execution_count": 4,
   "id": "e342a805-3a0e-4f1b-86e5-a59e2f4aa433",
   "metadata": {},
   "outputs": [],
   "source": [
    "# Convert input data X and output data y to tensors\n",
    "X = torch.tensor(X, dtype=torch.float32)\n",
    "y = torch.tensor(y, dtype=torch.float32).reshape(-1, 1)\n",
    "#X = X.detach().clone()\n",
    "#y = y.detach().clone().reshape(-1, 1)"
   ]
  },
  {
   "cell_type": "markdown",
   "id": "85a47574-52d1-43c2-a468-b19166510f45",
   "metadata": {},
   "source": [
    "### Model"
   ]
  },
  {
   "cell_type": "code",
   "execution_count": 5,
   "id": "71e545eb-c4b0-49bf-b35d-35fdadc9f557",
   "metadata": {},
   "outputs": [],
   "source": [
    "# Sequence of layers\n",
    "# Model expexts features 8,  number of X cols (input data)\n",
    "# Three layers,  to begin with\n",
    "# First layer has 12 neurons/nodes,\n",
    "# ReLU Activation : ReLU Rectified linear unit activation function\n",
    "# Second Layer has 8 neurons\n",
    "# ReLU Activation\n",
    "# Output layer has 1 neuron\n",
    "# Activation Function"
   ]
  },
  {
   "cell_type": "code",
   "execution_count": 6,
   "id": "337849dc-bc30-43db-9192-a318402e301f",
   "metadata": {},
   "outputs": [],
   "source": [
    "model = nn.Sequential(\n",
    "    nn.Linear(8, 12),\n",
    "    nn.ReLU(),\n",
    "    nn.Linear(12, 8),\n",
    "    nn.ReLU(),\n",
    "    nn.Linear(8,1),\n",
    "    nn.Sigmoid()\n",
    ")"
   ]
  },
  {
   "cell_type": "code",
   "execution_count": 7,
   "id": "acb856e5-c1c5-4f3a-80f4-43d14db6111d",
   "metadata": {},
   "outputs": [
    {
     "name": "stdout",
     "output_type": "stream",
     "text": [
      "Sequential(\n",
      "  (0): Linear(in_features=8, out_features=12, bias=True)\n",
      "  (1): ReLU()\n",
      "  (2): Linear(in_features=12, out_features=8, bias=True)\n",
      "  (3): ReLU()\n",
      "  (4): Linear(in_features=8, out_features=1, bias=True)\n",
      "  (5): Sigmoid()\n",
      ")\n"
     ]
    }
   ],
   "source": [
    "print(model)"
   ]
  },
  {
   "cell_type": "markdown",
   "id": "b469b813-790c-404d-9b88-63ca9b5f7949",
   "metadata": {},
   "source": [
    "### Preparation"
   ]
  },
  {
   "cell_type": "code",
   "execution_count": 8,
   "id": "46734cd7-ded7-48de-86ce-154891e78900",
   "metadata": {},
   "outputs": [],
   "source": [
    "# Loss function\n",
    "loss_fn = nn.BCELoss() # Binary Cross Entropy\n",
    "optimizer = optim.Adam(model.parameters(), lr=0.001) # lr= learning rate"
   ]
  },
  {
   "cell_type": "markdown",
   "id": "782b5b38-c161-429d-929f-cdba8fc5b4b7",
   "metadata": {},
   "source": [
    "### Training"
   ]
  },
  {
   "cell_type": "code",
   "execution_count": 9,
   "id": "81232871-dd26-4e9f-9c82-eace5ccd0230",
   "metadata": {},
   "outputs": [
    {
     "name": "stdout",
     "output_type": "stream",
     "text": [
      "Finisehd epoch 0, latest loss 0.6023751497268677\n",
      "Finisehd epoch 1, latest loss 0.5645127296447754\n",
      "Finisehd epoch 2, latest loss 0.5464270710945129\n",
      "Finisehd epoch 3, latest loss 0.530113935470581\n",
      "Finisehd epoch 4, latest loss 0.5150183439254761\n",
      "Finisehd epoch 5, latest loss 0.5027486085891724\n",
      "Finisehd epoch 6, latest loss 0.4899449050426483\n",
      "Finisehd epoch 7, latest loss 0.4930601716041565\n",
      "Finisehd epoch 8, latest loss 0.4869895875453949\n",
      "Finisehd epoch 9, latest loss 0.47749075293540955\n",
      "Finisehd epoch 10, latest loss 0.4735140800476074\n",
      "Finisehd epoch 11, latest loss 0.459667831659317\n",
      "Finisehd epoch 12, latest loss 0.45407727360725403\n",
      "Finisehd epoch 13, latest loss 0.43506938219070435\n",
      "Finisehd epoch 14, latest loss 0.4382058084011078\n",
      "Finisehd epoch 15, latest loss 0.41992059350013733\n",
      "Finisehd epoch 16, latest loss 0.417095422744751\n",
      "Finisehd epoch 17, latest loss 0.416872501373291\n",
      "Finisehd epoch 18, latest loss 0.40562254190444946\n",
      "Finisehd epoch 19, latest loss 0.40095770359039307\n",
      "Finisehd epoch 20, latest loss 0.39898544549942017\n",
      "Finisehd epoch 21, latest loss 0.3894787132740021\n",
      "Finisehd epoch 22, latest loss 0.3940850496292114\n",
      "Finisehd epoch 23, latest loss 0.38257914781570435\n",
      "Finisehd epoch 24, latest loss 0.3916585445404053\n",
      "Finisehd epoch 25, latest loss 0.38856083154678345\n",
      "Finisehd epoch 26, latest loss 0.38462820649147034\n",
      "Finisehd epoch 27, latest loss 0.3823256492614746\n",
      "Finisehd epoch 28, latest loss 0.37186527252197266\n",
      "Finisehd epoch 29, latest loss 0.38330787420272827\n",
      "Finisehd epoch 30, latest loss 0.3776669502258301\n",
      "Finisehd epoch 31, latest loss 0.37688443064689636\n",
      "Finisehd epoch 32, latest loss 0.3623487651348114\n",
      "Finisehd epoch 33, latest loss 0.3575839102268219\n",
      "Finisehd epoch 34, latest loss 0.3518926501274109\n",
      "Finisehd epoch 35, latest loss 0.3470812141895294\n",
      "Finisehd epoch 36, latest loss 0.3390127420425415\n",
      "Finisehd epoch 37, latest loss 0.3188449442386627\n",
      "Finisehd epoch 38, latest loss 0.32453566789627075\n",
      "Finisehd epoch 39, latest loss 0.3219031095504761\n",
      "Finisehd epoch 40, latest loss 0.31965041160583496\n",
      "Finisehd epoch 41, latest loss 0.294334352016449\n",
      "Finisehd epoch 42, latest loss 0.2968272864818573\n",
      "Finisehd epoch 43, latest loss 0.29897403717041016\n",
      "Finisehd epoch 44, latest loss 0.2999573349952698\n",
      "Finisehd epoch 45, latest loss 0.30033257603645325\n",
      "Finisehd epoch 46, latest loss 0.3007064759731293\n",
      "Finisehd epoch 47, latest loss 0.2964603304862976\n",
      "Finisehd epoch 48, latest loss 0.296697735786438\n",
      "Finisehd epoch 49, latest loss 0.29545238614082336\n",
      "Finisehd epoch 50, latest loss 0.2980092465877533\n",
      "Finisehd epoch 51, latest loss 0.2903318405151367\n",
      "Finisehd epoch 52, latest loss 0.2944048345088959\n",
      "Finisehd epoch 53, latest loss 0.2969624400138855\n",
      "Finisehd epoch 54, latest loss 0.2915993332862854\n",
      "Finisehd epoch 55, latest loss 0.28988710045814514\n",
      "Finisehd epoch 56, latest loss 0.2846064269542694\n",
      "Finisehd epoch 57, latest loss 0.2833002209663391\n",
      "Finisehd epoch 58, latest loss 0.28028348088264465\n",
      "Finisehd epoch 59, latest loss 0.28193923830986023\n",
      "Finisehd epoch 60, latest loss 0.2814025580883026\n",
      "Finisehd epoch 61, latest loss 0.2824535369873047\n",
      "Finisehd epoch 62, latest loss 0.2774498462677002\n",
      "Finisehd epoch 63, latest loss 0.27874934673309326\n",
      "Finisehd epoch 64, latest loss 0.2674473524093628\n",
      "Finisehd epoch 65, latest loss 0.267569363117218\n",
      "Finisehd epoch 66, latest loss 0.2639378607273102\n",
      "Finisehd epoch 67, latest loss 0.26041749119758606\n",
      "Finisehd epoch 68, latest loss 0.27079224586486816\n",
      "Finisehd epoch 69, latest loss 0.2717032730579376\n",
      "Finisehd epoch 70, latest loss 0.2682618796825409\n",
      "Finisehd epoch 71, latest loss 0.2753307521343231\n",
      "Finisehd epoch 72, latest loss 0.2609449625015259\n",
      "Finisehd epoch 73, latest loss 0.2664541006088257\n",
      "Finisehd epoch 74, latest loss 0.2731855809688568\n",
      "Finisehd epoch 75, latest loss 0.2662368416786194\n",
      "Finisehd epoch 76, latest loss 0.2680465579032898\n",
      "Finisehd epoch 77, latest loss 0.2661231756210327\n",
      "Finisehd epoch 78, latest loss 0.26937466859817505\n",
      "Finisehd epoch 79, latest loss 0.2646963894367218\n",
      "Finisehd epoch 80, latest loss 0.2910337448120117\n",
      "Finisehd epoch 81, latest loss 0.27196216583251953\n",
      "Finisehd epoch 82, latest loss 0.2668900489807129\n",
      "Finisehd epoch 83, latest loss 0.26732590794563293\n",
      "Finisehd epoch 84, latest loss 0.26634833216667175\n",
      "Finisehd epoch 85, latest loss 0.2750081419944763\n",
      "Finisehd epoch 86, latest loss 0.270052969455719\n",
      "Finisehd epoch 87, latest loss 0.2778376340866089\n",
      "Finisehd epoch 88, latest loss 0.2712721526622772\n",
      "Finisehd epoch 89, latest loss 0.2680702805519104\n",
      "Finisehd epoch 90, latest loss 0.2690753638744354\n",
      "Finisehd epoch 91, latest loss 0.2673903703689575\n",
      "Finisehd epoch 92, latest loss 0.2720653712749481\n",
      "Finisehd epoch 93, latest loss 0.272798627614975\n",
      "Finisehd epoch 94, latest loss 0.2754223048686981\n",
      "Finisehd epoch 95, latest loss 0.2673618495464325\n",
      "Finisehd epoch 96, latest loss 0.26647359132766724\n",
      "Finisehd epoch 97, latest loss 0.27267253398895264\n",
      "Finisehd epoch 98, latest loss 0.26973479986190796\n",
      "Finisehd epoch 99, latest loss 0.27329501509666443\n"
     ]
    }
   ],
   "source": [
    "# Epoch: passes or iterations \n",
    "# Batch samples passed to the model\n",
    "# dataset is split into batches.  Batches pass one by one in a loop.  Every completed loop is an epoch.\n",
    "n_epochs = 100\n",
    "batch_size = 10\n",
    "\n",
    "for epoch in range(n_epochs):\n",
    "    for i in range(0, len(X), batch_size):\n",
    "        Xbatch = X[i:i+batch_size]\n",
    "        y_pred = model(Xbatch)\n",
    "        ybatch = y[i:i+batch_size]\n",
    "        loss = loss_fn(y_pred, ybatch)\n",
    "        optimizer.zero_grad()\n",
    "        loss.backward()\n",
    "        optimizer.step()\n",
    "    print(f\"Finisehd epoch {epoch}, latest loss {loss}\")"
   ]
  },
  {
   "cell_type": "markdown",
   "id": "12eb41d9-bfbc-4d2c-997a-3d6e0c442c76",
   "metadata": {},
   "source": [
    "### Model Evaluation\n",
    "\n",
    "This model was trained with all data from dataset. Better is to split original data into training and testing datasets."
   ]
  },
  {
   "cell_type": "code",
   "execution_count": 10,
   "id": "70a81d5a-5ebf-48e5-91e2-6ec854314c6e",
   "metadata": {},
   "outputs": [
    {
     "name": "stdout",
     "output_type": "stream",
     "text": [
      "Accuracy 0.77734375\n"
     ]
    }
   ],
   "source": [
    "# compute accuracy\n",
    "with torch.no_grad():\n",
    "    y_pred = model(X)\n",
    "\n",
    "accuracy = (y_pred.round() == y).float().mean()\n",
    "print(f\"Accuracy {accuracy}\")"
   ]
  },
  {
   "cell_type": "markdown",
   "id": "40b41ecd-dbea-4bdf-8590-35771c93d4b0",
   "metadata": {},
   "source": [
    "### Predictions"
   ]
  },
  {
   "cell_type": "code",
   "execution_count": 11,
   "id": "2b0f8e06-5c80-4cc3-9ed0-ed9d0cc9ed9c",
   "metadata": {},
   "outputs": [
    {
     "name": "stdout",
     "output_type": "stream",
     "text": [
      "[6.0, 148.0, 72.0, 35.0, 0.0, 33.599998474121094, 0.6269999742507935, 50.0] => 1 (expected 1)\n",
      "[1.0, 85.0, 66.0, 29.0, 0.0, 26.600000381469727, 0.35100001096725464, 31.0] => 0 (expected 0)\n",
      "[8.0, 183.0, 64.0, 0.0, 0.0, 23.299999237060547, 0.671999990940094, 32.0] => 1 (expected 1)\n",
      "[1.0, 89.0, 66.0, 23.0, 94.0, 28.100000381469727, 0.16699999570846558, 21.0] => 0 (expected 0)\n",
      "[0.0, 137.0, 40.0, 35.0, 168.0, 43.099998474121094, 2.2880001068115234, 33.0] => 1 (expected 1)\n",
      "[5.0, 116.0, 74.0, 0.0, 0.0, 25.600000381469727, 0.20100000500679016, 30.0] => 0 (expected 0)\n",
      "[3.0, 78.0, 50.0, 32.0, 88.0, 31.0, 0.24799999594688416, 26.0] => 0 (expected 1)\n",
      "[10.0, 115.0, 0.0, 0.0, 0.0, 35.29999923706055, 0.1340000033378601, 29.0] => 1 (expected 0)\n",
      "[2.0, 197.0, 70.0, 45.0, 543.0, 30.5, 0.15800000727176666, 53.0] => 1 (expected 1)\n",
      "[8.0, 125.0, 96.0, 0.0, 0.0, 0.0, 0.23199999332427979, 54.0] => 1 (expected 1)\n"
     ]
    }
   ],
   "source": [
    "# Class predictions\n",
    "predictions = (model(X) > 0.5).int()\n",
    "for i in range(10):\n",
    "    print('%s => %d (expected %d)' % (X[i].tolist(), predictions[i], y[i]))"
   ]
  }
 ],
 "metadata": {
  "kernelspec": {
   "display_name": "Python 3 (ipykernel)",
   "language": "python",
   "name": "python3"
  },
  "language_info": {
   "codemirror_mode": {
    "name": "ipython",
    "version": 3
   },
   "file_extension": ".py",
   "mimetype": "text/x-python",
   "name": "python",
   "nbconvert_exporter": "python",
   "pygments_lexer": "ipython3",
   "version": "3.11.2"
  }
 },
 "nbformat": 4,
 "nbformat_minor": 5
}
