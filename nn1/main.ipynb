{
 "cells": [
  {
   "cell_type": "markdown",
   "id": "98f50a03-5a93-4e0a-8104-7b6527688eae",
   "metadata": {},
   "source": [
    "# Step by Step Neural Network with PyTorch\n",
    "\n",
    "### [Source](https://machinelearningmastery.com/develop-your-first-neural-network-with-pytorch-step-by-step/)\n",
    "\n",
    "### [Story](https://www.pivotaltracker.com/story/show/188278094)"
   ]
  },
  {
   "cell_type": "code",
   "execution_count": 1,
   "id": "bec0e40c-482c-40e7-9f3e-7113c92ca47e",
   "metadata": {},
   "outputs": [],
   "source": [
    "import numpy as np\n",
    "import torch\n",
    "import torch.nn as nn\n",
    "import torch.optim as optim"
   ]
  },
  {
   "cell_type": "markdown",
   "id": "fab9ed5e-c284-4d98-8e8d-a61ea9cb7e87",
   "metadata": {},
   "source": [
    "### Device"
   ]
  },
  {
   "cell_type": "code",
   "execution_count": 2,
   "id": "53571239-798a-4b77-aa06-3990d4ae282c",
   "metadata": {},
   "outputs": [
    {
     "name": "stdout",
     "output_type": "stream",
     "text": [
      "Operational device is CPU\n"
     ]
    }
   ],
   "source": [
    "# Device\n",
    "device = (\n",
    "    \"cuda\"\n",
    "    if torch.cuda.is_available()\n",
    "    else \"mps\"\n",
    "    if torch.backends.mps.is_available()\n",
    "    else \"cpu\"\n",
    ")\n",
    "\n",
    "print(f\"Operational device is {device.upper()}\")"
   ]
  },
  {
   "cell_type": "markdown",
   "id": "367b9578-9170-4528-bf46-99a47b5961b7",
   "metadata": {},
   "source": [
    "### Data Load and Transform"
   ]
  },
  {
   "cell_type": "code",
   "execution_count": 3,
   "id": "5654637c-0f68-4c52-bf5e-4d003a17911b",
   "metadata": {},
   "outputs": [],
   "source": [
    "#  Load Data: Pima Indians Diabetes dataset\n",
    "dataset = np.loadtxt('./data/pima-indians-diabetes.data.csv', delimiter=',')\n",
    "X = dataset[:,0:8]\n",
    "y = dataset[:,8]"
   ]
  },
  {
   "cell_type": "code",
   "execution_count": 4,
   "id": "e342a805-3a0e-4f1b-86e5-a59e2f4aa433",
   "metadata": {},
   "outputs": [],
   "source": [
    "# Convert input data X and output data y to tensors\n",
    "X = torch.tensor(X, dtype=torch.float32)\n",
    "y = torch.tensor(y, dtype=torch.float32).reshape(-1, 1)\n",
    "#X = X.detach().clone()\n",
    "#y = y.detach().clone().reshape(-1, 1)"
   ]
  },
  {
   "cell_type": "markdown",
   "id": "85a47574-52d1-43c2-a468-b19166510f45",
   "metadata": {},
   "source": [
    "### Model"
   ]
  },
  {
   "cell_type": "code",
   "execution_count": 5,
   "id": "71e545eb-c4b0-49bf-b35d-35fdadc9f557",
   "metadata": {},
   "outputs": [],
   "source": [
    "# Sequence of layers\n",
    "# Model expexts features 8,  number of X cols (input data)\n",
    "# Three layers,  to begin with\n",
    "# First layer has 12 neurons/nodes,\n",
    "# ReLU Activation : ReLU Rectified linear unit activation function\n",
    "# Second Layer has 8 neurons\n",
    "# ReLU Activation\n",
    "# Output layer has 1 neuron\n",
    "# Activation Function"
   ]
  },
  {
   "cell_type": "code",
   "execution_count": 6,
   "id": "337849dc-bc30-43db-9192-a318402e301f",
   "metadata": {},
   "outputs": [],
   "source": [
    "model = nn.Sequential(\n",
    "    nn.Linear(8, 12),\n",
    "    nn.ReLU(),\n",
    "    nn.Linear(12, 8),\n",
    "    nn.ReLU(),\n",
    "    nn.Linear(8,1),\n",
    "    nn.Sigmoid()\n",
    ")"
   ]
  },
  {
   "cell_type": "code",
   "execution_count": 7,
   "id": "acb856e5-c1c5-4f3a-80f4-43d14db6111d",
   "metadata": {},
   "outputs": [
    {
     "name": "stdout",
     "output_type": "stream",
     "text": [
      "Sequential(\n",
      "  (0): Linear(in_features=8, out_features=12, bias=True)\n",
      "  (1): ReLU()\n",
      "  (2): Linear(in_features=12, out_features=8, bias=True)\n",
      "  (3): ReLU()\n",
      "  (4): Linear(in_features=8, out_features=1, bias=True)\n",
      "  (5): Sigmoid()\n",
      ")\n"
     ]
    }
   ],
   "source": [
    "print(model)"
   ]
  },
  {
   "cell_type": "markdown",
   "id": "b469b813-790c-404d-9b88-63ca9b5f7949",
   "metadata": {},
   "source": [
    "### Preparation"
   ]
  },
  {
   "cell_type": "code",
   "execution_count": 8,
   "id": "46734cd7-ded7-48de-86ce-154891e78900",
   "metadata": {},
   "outputs": [],
   "source": [
    "# Loss function\n",
    "loss_fn = nn.BCELoss() # Binary Cross Entropy\n",
    "optimizer = optim.Adam(model.parameters(), lr=0.001) # lr= learning rate"
   ]
  },
  {
   "cell_type": "markdown",
   "id": "782b5b38-c161-429d-929f-cdba8fc5b4b7",
   "metadata": {},
   "source": [
    "### Training"
   ]
  },
  {
   "cell_type": "code",
   "execution_count": 9,
   "id": "81232871-dd26-4e9f-9c82-eace5ccd0230",
   "metadata": {},
   "outputs": [
    {
     "name": "stdout",
     "output_type": "stream",
     "text": [
      "Finisehd epoch 0, latest loss 0.49944913387298584\n",
      "Finisehd epoch 1, latest loss 0.5138412117958069\n",
      "Finisehd epoch 2, latest loss 0.5191243886947632\n",
      "Finisehd epoch 3, latest loss 0.52598637342453\n",
      "Finisehd epoch 4, latest loss 0.5389389991760254\n",
      "Finisehd epoch 5, latest loss 0.5377166867256165\n",
      "Finisehd epoch 6, latest loss 0.5404120683670044\n",
      "Finisehd epoch 7, latest loss 0.5400943756103516\n",
      "Finisehd epoch 8, latest loss 0.538077712059021\n",
      "Finisehd epoch 9, latest loss 0.5367293953895569\n",
      "Finisehd epoch 10, latest loss 0.5376542210578918\n",
      "Finisehd epoch 11, latest loss 0.5378069877624512\n",
      "Finisehd epoch 12, latest loss 0.5353744029998779\n",
      "Finisehd epoch 13, latest loss 0.5348178148269653\n",
      "Finisehd epoch 14, latest loss 0.5359336733818054\n",
      "Finisehd epoch 15, latest loss 0.5370482206344604\n",
      "Finisehd epoch 16, latest loss 0.5324510931968689\n",
      "Finisehd epoch 17, latest loss 0.5299745798110962\n",
      "Finisehd epoch 18, latest loss 0.5285904407501221\n",
      "Finisehd epoch 19, latest loss 0.5258567929267883\n",
      "Finisehd epoch 20, latest loss 0.5276642441749573\n",
      "Finisehd epoch 21, latest loss 0.5254406929016113\n",
      "Finisehd epoch 22, latest loss 0.5197793245315552\n",
      "Finisehd epoch 23, latest loss 0.5172592401504517\n",
      "Finisehd epoch 24, latest loss 0.5128446817398071\n",
      "Finisehd epoch 25, latest loss 0.5107316374778748\n",
      "Finisehd epoch 26, latest loss 0.507588803768158\n",
      "Finisehd epoch 27, latest loss 0.5077152848243713\n",
      "Finisehd epoch 28, latest loss 0.5045726895332336\n",
      "Finisehd epoch 29, latest loss 0.5039690732955933\n",
      "Finisehd epoch 30, latest loss 0.5031092166900635\n",
      "Finisehd epoch 31, latest loss 0.5025462508201599\n",
      "Finisehd epoch 32, latest loss 0.49771976470947266\n",
      "Finisehd epoch 33, latest loss 0.5009381175041199\n",
      "Finisehd epoch 34, latest loss 0.50162273645401\n",
      "Finisehd epoch 35, latest loss 0.4988611936569214\n",
      "Finisehd epoch 36, latest loss 0.49621134996414185\n",
      "Finisehd epoch 37, latest loss 0.4922952950000763\n",
      "Finisehd epoch 38, latest loss 0.48533132672309875\n",
      "Finisehd epoch 39, latest loss 0.49144989252090454\n",
      "Finisehd epoch 40, latest loss 0.48899203538894653\n",
      "Finisehd epoch 41, latest loss 0.4813039004802704\n",
      "Finisehd epoch 42, latest loss 0.4826156497001648\n",
      "Finisehd epoch 43, latest loss 0.4831080436706543\n",
      "Finisehd epoch 44, latest loss 0.4802697002887726\n",
      "Finisehd epoch 45, latest loss 0.47890645265579224\n",
      "Finisehd epoch 46, latest loss 0.4776339530944824\n",
      "Finisehd epoch 47, latest loss 0.4799148142337799\n",
      "Finisehd epoch 48, latest loss 0.47653841972351074\n",
      "Finisehd epoch 49, latest loss 0.47670257091522217\n",
      "Finisehd epoch 50, latest loss 0.4729164242744446\n",
      "Finisehd epoch 51, latest loss 0.4690430760383606\n",
      "Finisehd epoch 52, latest loss 0.47240275144577026\n",
      "Finisehd epoch 53, latest loss 0.4696342349052429\n",
      "Finisehd epoch 54, latest loss 0.46912357211112976\n",
      "Finisehd epoch 55, latest loss 0.46795690059661865\n",
      "Finisehd epoch 56, latest loss 0.4728277921676636\n",
      "Finisehd epoch 57, latest loss 0.465762197971344\n",
      "Finisehd epoch 58, latest loss 0.45869046449661255\n",
      "Finisehd epoch 59, latest loss 0.4576079845428467\n",
      "Finisehd epoch 60, latest loss 0.4602692127227783\n",
      "Finisehd epoch 61, latest loss 0.45471885800361633\n",
      "Finisehd epoch 62, latest loss 0.4596831798553467\n",
      "Finisehd epoch 63, latest loss 0.46135419607162476\n",
      "Finisehd epoch 64, latest loss 0.4540896415710449\n",
      "Finisehd epoch 65, latest loss 0.4539009928703308\n",
      "Finisehd epoch 66, latest loss 0.45187532901763916\n",
      "Finisehd epoch 67, latest loss 0.45370420813560486\n",
      "Finisehd epoch 68, latest loss 0.4512838125228882\n",
      "Finisehd epoch 69, latest loss 0.4491880238056183\n",
      "Finisehd epoch 70, latest loss 0.45045846700668335\n",
      "Finisehd epoch 71, latest loss 0.4520610272884369\n",
      "Finisehd epoch 72, latest loss 0.4355190694332123\n",
      "Finisehd epoch 73, latest loss 0.44450944662094116\n",
      "Finisehd epoch 74, latest loss 0.4401331841945648\n",
      "Finisehd epoch 75, latest loss 0.43754395842552185\n",
      "Finisehd epoch 76, latest loss 0.4325597882270813\n",
      "Finisehd epoch 77, latest loss 0.43457722663879395\n",
      "Finisehd epoch 78, latest loss 0.41933581233024597\n",
      "Finisehd epoch 79, latest loss 0.4325897991657257\n",
      "Finisehd epoch 80, latest loss 0.43143314123153687\n",
      "Finisehd epoch 81, latest loss 0.42812439799308777\n",
      "Finisehd epoch 82, latest loss 0.41789788007736206\n",
      "Finisehd epoch 83, latest loss 0.42818981409072876\n",
      "Finisehd epoch 84, latest loss 0.422752320766449\n",
      "Finisehd epoch 85, latest loss 0.42043954133987427\n",
      "Finisehd epoch 86, latest loss 0.41692179441452026\n",
      "Finisehd epoch 87, latest loss 0.41414108872413635\n",
      "Finisehd epoch 88, latest loss 0.4119355082511902\n",
      "Finisehd epoch 89, latest loss 0.41002896428108215\n",
      "Finisehd epoch 90, latest loss 0.4141613245010376\n",
      "Finisehd epoch 91, latest loss 0.4112634062767029\n",
      "Finisehd epoch 92, latest loss 0.4110637307167053\n",
      "Finisehd epoch 93, latest loss 0.3980373442173004\n",
      "Finisehd epoch 94, latest loss 0.40658044815063477\n",
      "Finisehd epoch 95, latest loss 0.40178951621055603\n",
      "Finisehd epoch 96, latest loss 0.3911789059638977\n",
      "Finisehd epoch 97, latest loss 0.40032118558883667\n",
      "Finisehd epoch 98, latest loss 0.39251434803009033\n",
      "Finisehd epoch 99, latest loss 0.3920954465866089\n"
     ]
    }
   ],
   "source": [
    "# Epoch: passes or iterations \n",
    "# Batch samples passed to the model\n",
    "# dataset is split into batches.  Batches pass one by one in a loop.  Every completed loop is an epoch.\n",
    "n_epochs = 100\n",
    "batch_size = 10\n",
    "\n",
    "for epoch in range(n_epochs):\n",
    "    for i in range(0, len(X), batch_size):\n",
    "        Xbatch = X[i:i+batch_size]\n",
    "        y_pred = model(Xbatch)\n",
    "        ybatch = y[i:i+batch_size]\n",
    "        loss = loss_fn(y_pred, ybatch)\n",
    "        optimizer.zero_grad()\n",
    "        loss.backward()\n",
    "        optimizer.step()\n",
    "    print(f\"Finisehd epoch {epoch}, latest loss {loss}\")"
   ]
  },
  {
   "cell_type": "markdown",
   "id": "12eb41d9-bfbc-4d2c-997a-3d6e0c442c76",
   "metadata": {},
   "source": [
    "### Model Evaluation"
   ]
  },
  {
   "cell_type": "code",
   "execution_count": null,
   "id": "70a81d5a-5ebf-48e5-91e2-6ec854314c6e",
   "metadata": {},
   "outputs": [],
   "source": []
  }
 ],
 "metadata": {
  "kernelspec": {
   "display_name": "Python 3 (ipykernel)",
   "language": "python",
   "name": "python3"
  },
  "language_info": {
   "codemirror_mode": {
    "name": "ipython",
    "version": 3
   },
   "file_extension": ".py",
   "mimetype": "text/x-python",
   "name": "python",
   "nbconvert_exporter": "python",
   "pygments_lexer": "ipython3",
   "version": "3.11.2"
  }
 },
 "nbformat": 4,
 "nbformat_minor": 5
}
