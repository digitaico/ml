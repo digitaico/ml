{
 "cells": [
  {
   "cell_type": "markdown",
   "id": "c4ba2fb7-cfea-40de-b621-a830c42c8654",
   "metadata": {},
   "source": [
    "# PYTORCH SAMPLES\n",
    "\n",
    "Scripts derived from PyTorch Tutorial,  mainly Object Classification @ MNIST.\n",
    "\n",
    "#### [Story](https://www.pivotaltracker.com/story/show/188139132)\n",
    "\n",
    "#### [Source](https://pytorch.org/tutorials/beginner/basics/quickstart_tutorial.html)"
   ]
  },
  {
   "cell_type": "code",
   "execution_count": 1,
   "id": "0b204619-a7c8-45a7-a3c0-8caecedc0c9b",
   "metadata": {},
   "outputs": [],
   "source": [
    "import torch\n",
    "from torch import nn\n",
    "from torch.utils.data import DataLoader\n",
    "from torchvision import datasets\n",
    "from torchvision.transforms import ToTensor"
   ]
  },
  {
   "cell_type": "markdown",
   "id": "5c7e3492-8415-410f-bd5e-f95895b16142",
   "metadata": {},
   "source": [
    "#### Load Data"
   ]
  },
  {
   "cell_type": "code",
   "execution_count": 2,
   "id": "ace8bf2a-792b-458a-b928-75254789a76f",
   "metadata": {},
   "outputs": [],
   "source": [
    "training_data = datasets.FashionMNIST(\n",
    "    root=\"data\",\n",
    "    train=True,\n",
    "    download=True,\n",
    "    transform=ToTensor(),\n",
    ")"
   ]
  },
  {
   "cell_type": "code",
   "execution_count": 3,
   "id": "7b66bd24-b4db-410a-ae71-9b81a61ddb45",
   "metadata": {},
   "outputs": [],
   "source": [
    "test_data = datasets.FashionMNIST(\n",
    "    root=\"data\",\n",
    "    train=False,\n",
    "    download=True,\n",
    "    transform=ToTensor(),\n",
    ")"
   ]
  },
  {
   "cell_type": "code",
   "execution_count": 4,
   "id": "fff5c1f4-4b40-464f-95d6-3b1205935378",
   "metadata": {},
   "outputs": [],
   "source": [
    "batch_size = 64\n",
    "\n",
    "train_dataloader = DataLoader(training_data, batch_size=batch_size)\n",
    "test_dataloader = DataLoader(test_data, batch_size=batch_size)"
   ]
  },
  {
   "cell_type": "code",
   "execution_count": 5,
   "id": "e928c9b2-4e21-470c-99a9-76287e459b5c",
   "metadata": {},
   "outputs": [
    {
     "name": "stdout",
     "output_type": "stream",
     "text": [
      "Shape of X [N,C,H,W]: torch.Size([64, 1, 28, 28])\n",
      "Shape of y: torch.Size([64]) torch.int64\n"
     ]
    }
   ],
   "source": [
    "for X, y in test_dataloader:\n",
    "    print(f\"Shape of X [N,C,H,W]: {X.shape}\")\n",
    "    print(f\"Shape of y: {y.shape} {y.dtype}\")\n",
    "    break"
   ]
  },
  {
   "cell_type": "markdown",
   "id": "5fe48003-1272-4310-a076-495c8c6b730a",
   "metadata": {},
   "source": [
    "#### Create Models"
   ]
  },
  {
   "cell_type": "code",
   "execution_count": 6,
   "id": "a526be7c-84b0-4409-bcd2-ff741cf6a912",
   "metadata": {},
   "outputs": [
    {
     "name": "stdout",
     "output_type": "stream",
     "text": [
      "Operational device is CPU\n"
     ]
    }
   ],
   "source": [
    "# Get devide: cuda, mps or `cpu` on availability\n",
    "device = (\n",
    "    \"cuda\"\n",
    "    if torch.cuda.is_available()\n",
    "    else \"mps\"\n",
    "    if torch.backends.mps.is_available()\n",
    "    else \"cpu\"\n",
    ")\n",
    "\n",
    "print(f\"Operational device is {device.upper()}\")"
   ]
  },
  {
   "cell_type": "code",
   "execution_count": 7,
   "id": "ce5f887a-18fe-4394-a1c1-37c8b35897a3",
   "metadata": {},
   "outputs": [],
   "source": [
    "# Define Model\n",
    "class NeuralNetwork(nn.Module):\n",
    "    def __init__(self):\n",
    "        super().__init__()\n",
    "        self.flatten = nn.Flatten()\n",
    "        self.linear_relu_stack = nn.Sequential(\n",
    "            nn.Linear(28*28, 512),\n",
    "            nn.ReLU(),\n",
    "            nn.Linear(512,512),\n",
    "            nn.ReLU(),\n",
    "            nn.Linear(512,10)\n",
    "        )\n",
    "\n",
    "    def forward(self, x):\n",
    "        x = self.flatten(x)\n",
    "        logits = self.linear_relu_stack(x)\n",
    "        return logits"
   ]
  },
  {
   "cell_type": "code",
   "execution_count": 8,
   "id": "ffbc0d15-a77f-46ff-af17-d6dded433227",
   "metadata": {},
   "outputs": [
    {
     "name": "stdout",
     "output_type": "stream",
     "text": [
      "NeuralNetwork(\n",
      "  (flatten): Flatten(start_dim=1, end_dim=-1)\n",
      "  (linear_relu_stack): Sequential(\n",
      "    (0): Linear(in_features=784, out_features=512, bias=True)\n",
      "    (1): ReLU()\n",
      "    (2): Linear(in_features=512, out_features=512, bias=True)\n",
      "    (3): ReLU()\n",
      "    (4): Linear(in_features=512, out_features=10, bias=True)\n",
      "  )\n",
      ")\n"
     ]
    }
   ],
   "source": [
    "model = NeuralNetwork().to(device)\n",
    "print(model)"
   ]
  },
  {
   "cell_type": "markdown",
   "id": "b4535bca-bb65-4f18-8725-7ca03bce8bc3",
   "metadata": {},
   "source": [
    "#### Optimize Model Parameters"
   ]
  },
  {
   "cell_type": "markdown",
   "id": "6c3ff008-9407-40de-823b-1339af2a1736",
   "metadata": {},
   "source": [
    "#### Loss function and Optmizer to train a model"
   ]
  },
  {
   "cell_type": "code",
   "execution_count": 9,
   "id": "f426f9e8-d8fa-46ca-b050-7dd1d0d7fae1",
   "metadata": {},
   "outputs": [],
   "source": [
    "loss_fn = nn.CrossEntropyLoss()\n",
    "optimizer = torch.optim.SGD(model.parameters(), lr=1e-3)"
   ]
  },
  {
   "cell_type": "code",
   "execution_count": 10,
   "id": "2302a350-5fdb-482f-a1e1-7f4a4e331163",
   "metadata": {
    "editable": true,
    "slideshow": {
     "slide_type": ""
    },
    "tags": []
   },
   "outputs": [],
   "source": [
    "# loop to make prediciotns on training dataset and backpropagate prediction error to adjust model's paramas\n",
    "\n",
    "def train (dataloader, model, loss_fn, optimizer):\n",
    "    size = len(dataloader.dataset)\n",
    "    model.train()\n",
    "    for batch, (X, y) in enumerate(dataloader):\n",
    "        X, y = X.to(device), y.to(device)\n",
    "\n",
    "        # predicion Error\n",
    "        pred = model(X)\n",
    "        loss = loss_fn(pred, y)\n",
    "\n",
    "        # Backpropagation\n",
    "        loss.backward()\n",
    "        optimizer.step()\n",
    "        optimizer.zero_grad()\n",
    "\n",
    "        if batch % 100 == 0:\n",
    "            loss, current = loss.item(), (batch + 1) * len(X)\n",
    "            print(f\"loss: {loss:>7f} [{current:>5d}/{size:>5d}]\")"
   ]
  },
  {
   "cell_type": "code",
   "execution_count": 11,
   "id": "b89e01f7-f2ed-4f1a-894b-a965269f4320",
   "metadata": {},
   "outputs": [],
   "source": [
    "# check the model performance against test dataset to ensure that is learning\n",
    "\n",
    "def test(dataloader, model, loss_fn):\n",
    "    size = len(dataloader.dataset)\n",
    "    num_batches = len(dataloader)\n",
    "    model.eval()\n",
    "    test_loss, correct = 0,0\n",
    "    with torch.no_grad():\n",
    "        for X, y in dataloader:\n",
    "            X, y = X.to(device)\n",
    "            pred = model(X)\n",
    "            test_loss =+ loss_fn(pred, y).item()\n",
    "            correct += (pred.argmax(1) == y).type(torch.float).sum().item()\n",
    "    test_loss /= num_batches\n",
    "    correct /= size\n",
    "    print(f\"Test Error: \\n Accuracy: {(100*correct):>0.1f}%, Avg Loss: {test_loss:>8f}\\n\")\n"
   ]
  },
  {
   "cell_type": "code",
   "execution_count": 12,
   "id": "98b4c02f-f125-40d6-96b4-c4bf3dc9f5a5",
   "metadata": {},
   "outputs": [
    {
     "name": "stdout",
     "output_type": "stream",
     "text": [
      "Epoch 1\n",
      "---------------------\n",
      "loss: 2.297179 [   64/60000]\n",
      "loss: 2.289219 [ 6464/60000]\n",
      "loss: 2.266188 [12864/60000]\n",
      "loss: 2.269588 [19264/60000]\n",
      "loss: 2.251293 [25664/60000]\n",
      "loss: 2.211892 [32064/60000]\n",
      "loss: 2.226571 [38464/60000]\n",
      "loss: 2.183880 [44864/60000]\n",
      "loss: 2.184382 [51264/60000]\n",
      "loss: 2.151525 [57664/60000]\n",
      "Epoch 2\n",
      "---------------------\n",
      "loss: 2.153297 [   64/60000]\n",
      "loss: 2.145521 [ 6464/60000]\n",
      "loss: 2.078375 [12864/60000]\n",
      "loss: 2.102457 [19264/60000]\n",
      "loss: 2.057517 [25664/60000]\n",
      "loss: 1.985422 [32064/60000]\n",
      "loss: 2.015377 [38464/60000]\n",
      "loss: 1.922487 [44864/60000]\n",
      "loss: 1.933521 [51264/60000]\n",
      "loss: 1.868200 [57664/60000]\n",
      "Epoch 3\n",
      "---------------------\n",
      "loss: 1.888111 [   64/60000]\n",
      "loss: 1.863826 [ 6464/60000]\n",
      "loss: 1.729683 [12864/60000]\n",
      "loss: 1.780755 [19264/60000]\n",
      "loss: 1.689441 [25664/60000]\n",
      "loss: 1.625808 [32064/60000]\n",
      "loss: 1.649539 [38464/60000]\n",
      "loss: 1.538236 [44864/60000]\n",
      "loss: 1.576300 [51264/60000]\n",
      "loss: 1.481310 [57664/60000]\n",
      "Epoch 4\n",
      "---------------------\n",
      "loss: 1.552368 [   64/60000]\n",
      "loss: 1.528898 [ 6464/60000]\n",
      "loss: 1.366910 [12864/60000]\n",
      "loss: 1.449803 [19264/60000]\n",
      "loss: 1.349208 [25664/60000]\n",
      "loss: 1.330631 [32064/60000]\n",
      "loss: 1.346372 [38464/60000]\n",
      "loss: 1.262437 [44864/60000]\n",
      "loss: 1.311112 [51264/60000]\n",
      "loss: 1.219226 [57664/60000]\n",
      "Epoch 5\n",
      "---------------------\n",
      "loss: 1.308956 [   64/60000]\n",
      "loss: 1.300710 [ 6464/60000]\n",
      "loss: 1.128219 [12864/60000]\n",
      "loss: 1.240197 [19264/60000]\n",
      "loss: 1.130199 [25664/60000]\n",
      "loss: 1.143745 [32064/60000]\n",
      "loss: 1.164473 [38464/60000]\n",
      "loss: 1.093983 [44864/60000]\n",
      "loss: 1.146794 [51264/60000]\n",
      "loss: 1.067039 [57664/60000]\n",
      "Done!\n"
     ]
    }
   ],
   "source": [
    "# itereations epochs\n",
    "epochs = 5\n",
    "for t in range(epochs):\n",
    "    print(f\"Epoch {t+1}\\n---------------------\")\n",
    "    train(train_dataloader, model, loss_fn, optimizer)\n",
    "print(\"Done!\")"
   ]
  },
  {
   "cell_type": "markdown",
   "id": "3c7c1a3c-171b-40a8-ad38-a205f45aaee8",
   "metadata": {},
   "source": [
    "#### Save Model"
   ]
  },
  {
   "cell_type": "code",
   "execution_count": 13,
   "id": "a50d8fb2-5e01-45b5-be69-2ea6c3536b46",
   "metadata": {},
   "outputs": [
    {
     "name": "stdout",
     "output_type": "stream",
     "text": [
      "Saved PyTorch Model State to model.pth\n"
     ]
    }
   ],
   "source": [
    "torch.save(model.state_dict(), \"model.pth\")\n",
    "print(\"Saved PyTorch Model State to model.pth\")"
   ]
  },
  {
   "cell_type": "markdown",
   "id": "673f2628-bcc7-4a8f-ae34-20ba36f46f22",
   "metadata": {},
   "source": [
    "#### Loading Models"
   ]
  },
  {
   "cell_type": "code",
   "execution_count": 14,
   "id": "e0f6b20d-6f14-4ec8-ad6e-e2f2cdd9af25",
   "metadata": {},
   "outputs": [
    {
     "data": {
      "text/plain": [
       "<All keys matched successfully>"
      ]
     },
     "execution_count": 14,
     "metadata": {},
     "output_type": "execute_result"
    }
   ],
   "source": [
    "model = NeuralNetwork().to(device)\n",
    "model.load_state_dict(torch.load(\"model.pth\", weights_only=True))"
   ]
  },
  {
   "cell_type": "code",
   "execution_count": 16,
   "id": "b79b9e9f-7d7d-4779-8465-1b63ee7f3e17",
   "metadata": {},
   "outputs": [
    {
     "name": "stdout",
     "output_type": "stream",
     "text": [
      "Predicted: \"Ankle boot\", Actual: \"Ankle boot\"\n"
     ]
    }
   ],
   "source": [
    "# Make predictions with the model\n",
    "\n",
    "classes = [\n",
    "    \"T-shirt/top\",\n",
    "    \"Trouser\",\n",
    "    \"Pullover\",\n",
    "    \"Dress\",\n",
    "    \"Coat\",\n",
    "    \"Sandal\",\n",
    "    \"Shirt\",\n",
    "    \"Sneaker\",\n",
    "    \"Bag\",\n",
    "    \"Ankle boot\",\n",
    "]\n",
    "\n",
    "model.eval()\n",
    "x, y = test_data[0][0], test_data[0][1]\n",
    "with torch.no_grad():\n",
    "    x = x.to(device)\n",
    "    pred = model(x)\n",
    "    predicted, actual = classes[pred[0].argmax(0)], classes[y]\n",
    "    print(f'Predicted: \"{predicted}\", Actual: \"{actual}\"')"
   ]
  },
  {
   "cell_type": "code",
   "execution_count": null,
   "id": "44be8736-9c6a-424e-ae66-7b699864d3ad",
   "metadata": {},
   "outputs": [],
   "source": []
  }
 ],
 "metadata": {
  "kernelspec": {
   "display_name": "Python 3 (ipykernel)",
   "language": "python",
   "name": "python3"
  },
  "language_info": {
   "codemirror_mode": {
    "name": "ipython",
    "version": 3
   },
   "file_extension": ".py",
   "mimetype": "text/x-python",
   "name": "python",
   "nbconvert_exporter": "python",
   "pygments_lexer": "ipython3",
   "version": "3.11.2"
  }
 },
 "nbformat": 4,
 "nbformat_minor": 5
}
