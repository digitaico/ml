{
 "cells": [
  {
   "cell_type": "markdown",
   "id": "d6dd8e36-60a1-44b8-abfc-512ba48d7048",
   "metadata": {},
   "source": [
    "### [Source](https://kcsgoodboy.github.io/posts/Introduction-to-NumPy-Arrays/en.html)\n",
    "\n",
    "### [Story](https://www.pivotaltracker.com/story/show/187934487)"
   ]
  },
  {
   "cell_type": "code",
   "execution_count": 7,
   "id": "12d3ae67-4d83-49d4-a9f4-94b8491926d7",
   "metadata": {},
   "outputs": [
    {
     "name": "stdout",
     "output_type": "stream",
     "text": [
      "Numpy version: 1.26.4\n"
     ]
    }
   ],
   "source": [
    "import numpy as np\n",
    "print (\"Numpy version: {}\".format(np.__version__))"
   ]
  },
  {
   "cell_type": "code",
   "execution_count": 8,
   "id": "2e9f993a-8125-4975-8619-92704c57b4f9",
   "metadata": {},
   "outputs": [
    {
     "name": "stdout",
     "output_type": "stream",
     "text": [
      "['ten' 'twenty']\n"
     ]
    }
   ],
   "source": [
    "unidim_array = np.array(['ten', 'twenty'])\n",
    "print(unidim_array)"
   ]
  },
  {
   "cell_type": "code",
   "execution_count": 10,
   "id": "b5f56fbf-3b97-42cb-81e2-18c819d9f45d",
   "metadata": {},
   "outputs": [
    {
     "name": "stdout",
     "output_type": "stream",
     "text": [
      "[1000 1050 1100 1150 1200 1250 1300 1350 1400 1450 1500 1550 1600 1650\n",
      " 1700 1750 1800 1850 1900 1950]\n"
     ]
    }
   ],
   "source": [
    "range_ar = np.arange(1000,2000, 50)\n",
    "print(range_ar)\n"
   ]
  },
  {
   "cell_type": "code",
   "execution_count": 16,
   "id": "a69f1a46-5d7e-475f-9254-6936b0f46d46",
   "metadata": {},
   "outputs": [
    {
     "name": "stdout",
     "output_type": "stream",
     "text": [
      "[1000 1800 2600 3400 4200 5000]\n"
     ]
    }
   ],
   "source": [
    "spaced_arr = np.linspace(1000, 5000, 6, dtype=int)\n",
    "print(spaced_arr)"
   ]
  },
  {
   "cell_type": "code",
   "execution_count": null,
   "id": "71940451-368a-486b-ad5d-25ddf472c5a8",
   "metadata": {},
   "outputs": [],
   "source": []
  }
 ],
 "metadata": {
  "kernelspec": {
   "display_name": "Python 3 (ipykernel)",
   "language": "python",
   "name": "python3"
  },
  "language_info": {
   "codemirror_mode": {
    "name": "ipython",
    "version": 3
   },
   "file_extension": ".py",
   "mimetype": "text/x-python",
   "name": "python",
   "nbconvert_exporter": "python",
   "pygments_lexer": "ipython3",
   "version": "3.11.2"
  }
 },
 "nbformat": 4,
 "nbformat_minor": 5
}
