{
 "cells": [
  {
   "cell_type": "markdown",
   "id": "d6dd8e36-60a1-44b8-abfc-512ba48d7048",
   "metadata": {},
   "source": [
    "## Hands On NumPy\n",
    "\n",
    "#### [Source](https://kcsgoodboy.github.io/posts/Introduction-to-NumPy-Arrays/en.html)\n",
    "#### [Story](https://www.pivotaltracker.com/story/show/187934487)"
   ]
  },
  {
   "cell_type": "markdown",
   "id": "7a99b805-f706-426a-91b5-d2cf720166f2",
   "metadata": {},
   "source": [
    "### Arrays Basics"
   ]
  },
  {
   "cell_type": "code",
   "execution_count": null,
   "id": "12d3ae67-4d83-49d4-a9f4-94b8491926d7",
   "metadata": {},
   "outputs": [],
   "source": [
    "import numpy as np\n",
    "print (\"Numpy version: {}\".format(np.__version__))"
   ]
  },
  {
   "cell_type": "code",
   "execution_count": null,
   "id": "2e9f993a-8125-4975-8619-92704c57b4f9",
   "metadata": {},
   "outputs": [],
   "source": [
    "unidim_array = np.array(['ten', 'twenty'])\n",
    "print(unidim_array)"
   ]
  },
  {
   "cell_type": "code",
   "execution_count": null,
   "id": "b5f56fbf-3b97-42cb-81e2-18c819d9f45d",
   "metadata": {},
   "outputs": [],
   "source": [
    "range_ar = np.arange(1000,2000, 50)\n",
    "print(range_ar)\n"
   ]
  },
  {
   "cell_type": "code",
   "execution_count": null,
   "id": "a69f1a46-5d7e-475f-9254-6936b0f46d46",
   "metadata": {},
   "outputs": [],
   "source": [
    "spaced_arr = np.linspace(1000, 5000, 6, dtype=int)\n",
    "print(spaced_arr)"
   ]
  },
  {
   "cell_type": "code",
   "execution_count": null,
   "id": "71940451-368a-486b-ad5d-25ddf472c5a8",
   "metadata": {},
   "outputs": [],
   "source": [
    "print(np.ones(5))\n",
    "print(np.zeros(5))\n",
    "print(np.empty(5))\n",
    "print(np.random.rand(5))\n"
   ]
  },
  {
   "cell_type": "markdown",
   "id": "7d5a8a49-7aba-4d37-bb86-ec2edf0787ca",
   "metadata": {},
   "source": [
    "### Multidimensional Arrays"
   ]
  },
  {
   "cell_type": "code",
   "execution_count": null,
   "id": "22914159-02f5-40bc-99f0-13eac1affce5",
   "metadata": {},
   "outputs": [],
   "source": [
    "marr = np.array([['seven', 'four', 'eleven'], ['hen', 'egg', 'rooster'], ['Jupiter', 'Pluto', 'Saturn'], [ 'Uranus', 'Earth', 'Venus']])\n",
    "\n",
    "print(marr)\n",
    "print(marr.ndim)\n",
    "print(marr.shape)\n",
    "print(marr.size)"
   ]
  },
  {
   "cell_type": "code",
   "execution_count": null,
   "id": "aa0138ac-f535-4073-9ec1-d2058cfc0b9e",
   "metadata": {},
   "outputs": [],
   "source": [
    "muarr = np.array([[ [1,3,5],[7,9,12],[1,6,2] ], [[9,8,5], [6,2,2], [99,11,23] ]])\n",
    "print(muarr)\n",
    "print(muarr.ndim)\n",
    "print(muarr.shape)\n",
    "print(muarr.size)"
   ]
  },
  {
   "cell_type": "markdown",
   "id": "75315fb9-ed11-428c-ac08-11bbdb4ff3e6",
   "metadata": {},
   "source": [
    "### Math Ops"
   ]
  },
  {
   "cell_type": "code",
   "execution_count": null,
   "id": "f1ed2120-adf1-4625-95d8-c3e6fd255823",
   "metadata": {},
   "outputs": [],
   "source": [
    "arr0 = np.array([20,99,0])\n",
    "arr1 = np.array([4,44,19])\n",
    "\n",
    "print(arr0 + arr1)\n",
    "print(arr0 - arr1)\n",
    "print(arr0 * arr1)\n",
    "print(arr0 / arr1)\n"
   ]
  },
  {
   "cell_type": "markdown",
   "id": "5a696124-af7c-44f3-b4a3-b718d919c32d",
   "metadata": {},
   "source": [
    "#### Broadcasting: Product of vector with scalar"
   ]
  },
  {
   "cell_type": "code",
   "execution_count": null,
   "id": "58e9108e-3002-4196-b3fd-0d1bf998f66a",
   "metadata": {},
   "outputs": [],
   "source": [
    "v = np.array([100,0,1,5])\n",
    "print(v*3)"
   ]
  },
  {
   "cell_type": "markdown",
   "id": "c5fe1bf4-0104-4434-91c7-e87019a9bf96",
   "metadata": {},
   "source": [
    "#### Indexes, Slices"
   ]
  },
  {
   "cell_type": "code",
   "execution_count": null,
   "id": "388909f6-681c-47d4-b3f2-1f19f3d21a6b",
   "metadata": {},
   "outputs": [],
   "source": [
    "v = ([1,2,3,4,5,6,7,8,9,0])\n",
    "print(v[6])"
   ]
  },
  {
   "cell_type": "code",
   "execution_count": null,
   "id": "50473ae0-7e30-4a5e-9eca-9bddc90ca2ba",
   "metadata": {},
   "outputs": [],
   "source": [
    "v = ([1,2,3,4,5,6,7,8,9,0])\n",
    "print(v[:3])\n",
    "print(v[3:])\n",
    "print(v[3:6])\n",
    "\n",
    "print(marr[:2])\n",
    "print(muarr[0])\n",
    "print(muarr[0])\n",
    "\n",
    "mxarr = [ [[ [3,6],[99.0],[8,19] ]], [[20,1,4],[8,7,6],[0,0,1]], [[14,14,0],[0,1,1],[7,1,7]]  ]\n",
    "print(mxarr[0][0][0][1])\n",
    "print(mxarr[0:2][1][1][1])\n"
   ]
  },
  {
   "cell_type": "markdown",
   "id": "2300478c-a297-4023-ac8b-942935643d8e",
   "metadata": {},
   "source": [
    "#### Stacking: Join multiple arrays, horizontal, vertical, along a new axis"
   ]
  },
  {
   "cell_type": "code",
   "execution_count": null,
   "id": "86d4bc7b-9b45-4bc2-8bb7-8bb30d797333",
   "metadata": {},
   "outputs": [],
   "source": [
    "arr0 = np.array([[7,0], [2,3]])\n",
    "arr1 = np.array([[9,1],[6,4]])\n",
    "\n",
    "v_stack = np.vstack((arr0, arr1))\n",
    "print(v_stack)\n",
    "h_stack = np.hstack((arr0, arr1))\n",
    "print(h_stack)\n",
    "\n"
   ]
  }
 ],
 "metadata": {
  "kernelspec": {
   "display_name": "Python 3 (ipykernel)",
   "language": "python",
   "name": "python3"
  },
  "language_info": {
   "codemirror_mode": {
    "name": "ipython",
    "version": 3
   },
   "file_extension": ".py",
   "mimetype": "text/x-python",
   "name": "python",
   "nbconvert_exporter": "python",
   "pygments_lexer": "ipython3",
   "version": "3.11.2"
  }
 },
 "nbformat": 4,
 "nbformat_minor": 5
}
